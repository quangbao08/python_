{
 "cells": [
  {
   "cell_type": "code",
   "execution_count": null,
   "id": "1b7705b3",
   "metadata": {},
   "outputs": [],
   "source": [
    "\"\"\"\n",
    "Viết class NhanVien gồm các thuộc tính:\n",
    "+ Tên\n",
    "+ Tuổi\n",
    "+ Địa chỉ\n",
    "+ Tiền lương\n",
    "+ Tổng số giờ làm\n",
    "\n",
    "Và các phương thức:\n",
    "- Phương thức __init__()\n",
    "- print_info() : In ra tất cả các thông tin của nhân viên\n",
    "- tinh_thuong(): Tính toán và trả về số tiền thưởng của nhân viên theo công thức sau:\n",
    "Nếu tổng số giờ làm của nhân viên >=200 thì thưởng = lương * 20%\n",
    "Nếu tổng số giờ làm của nhân viên <200 và >=100 thì thưởng = lương * 10%\n",
    "Nếu tổng số giờ làm của nhân viên <100 thì thưởng = 0\n",
    "\"\"\""
   ]
  },
  {
   "cell_type": "code",
   "execution_count": 16,
   "id": "3cf0f41d",
   "metadata": {},
   "outputs": [
    {
     "name": "stdout",
     "output_type": "stream",
     "text": [
      "thuan \n",
      "25 \n",
      "hai_duong \n",
      "10000 \n",
      "100\n"
     ]
    },
    {
     "data": {
      "text/plain": [
       "1000.0"
      ]
     },
     "execution_count": 16,
     "metadata": {},
     "output_type": "execute_result"
    }
   ],
   "source": [
    "class NhanVien:\n",
    "    def __init__(self, ten, tuoi, dia_chi, tien_luong, tong_gio_lam):\n",
    "        self.ten = ten\n",
    "        self.tuoi = tuoi\n",
    "        self.dia_chi = dia_chi\n",
    "        self.tien_luong = tien_luong\n",
    "        self.tong_gio_lam = tong_gio_lam\n",
    "    def print_info(self):\n",
    "        print(f\"{self.ten} \\n{self.tuoi} \\n{self.dia_chi} \\n{self.tien_luong} \\n{self.tong_gio_lam}\") \n",
    "    def tinh_thuong(self):\n",
    "        if self.tong_gio_lam >= 200:\n",
    "            tien_thuong = (self.tien_luong*20)/100\n",
    "        elif self.tong_gio_lam >= 100:\n",
    "            tien_thuong = (self.tien_luong*10)/100\n",
    "        else:\n",
    "            tien_thuong = 0\n",
    "        return tien_thuong\n",
    "    \n",
    "a = NhanVien('thuan',25,\"hai_duong\", 10000, 100)\n",
    "a.print_info()\n",
    "a.tinh_thuong()\n",
    "\n",
    "\n",
    "\n",
    "  \n",
    "    \n",
    "    "
   ]
  }
 ],
 "metadata": {
  "kernelspec": {
   "display_name": "Python 3 (ipykernel)",
   "language": "python",
   "name": "python3"
  },
  "language_info": {
   "codemirror_mode": {
    "name": "ipython",
    "version": 3
   },
   "file_extension": ".py",
   "mimetype": "text/x-python",
   "name": "python",
   "nbconvert_exporter": "python",
   "pygments_lexer": "ipython3",
   "version": "3.11.4"
  }
 },
 "nbformat": 4,
 "nbformat_minor": 5
}
