{
 "cells": [
  {
   "cell_type": "code",
   "execution_count": null,
   "id": "a42fa0c7",
   "metadata": {},
   "outputs": [],
   "source": [
    "\"\"\"\n",
    "Tạo class có tên Equation gồm có các thuộc tính và phương thức sau:\n",
    "+ Thuộc tính: number1, number2\n",
    "+ Phương thức:\n",
    "- Phương thức tạo __init()__\n",
    "- print_info(): dùng để hiển thị number1, number2\n",
    "- addition(): dùng để cộng number1, number2\n",
    "- subtract(): trừ number1, number2\n",
    "- multi(): dùng để nhân number1, number2\n",
    "- division(): dùng để chia number1, number2.\n",
    "\n",
    "Sau khi tạo class, khởi tạo một object Equation và in ra kết quả tính toán từ các hàm thực hiện phép tính\n",
    "\"\"\""
   ]
  },
  {
   "cell_type": "code",
   "execution_count": 9,
   "id": "40efe680-018d-429a-aeac-50e4b027587a",
   "metadata": {},
   "outputs": [
    {
     "name": "stdout",
     "output_type": "stream",
     "text": [
      "number1 là: 5 \n",
      "number2 là: 5\n",
      "25 1.0 10 0\n"
     ]
    }
   ],
   "source": [
    "class Equation:\n",
    "    def __init__(self, number1, number2):\n",
    "        self.number1 = number1\n",
    "        self.number2 = number2\n",
    "    \n",
    "    def print_info(self):\n",
    "       print(f\"number1 là: {self.number1} \\nnumber2 là: {self.number2}\")\n",
    "    \n",
    "    def multiply(self):\n",
    "        # code here\n",
    "        tich = self.number1*self.number2\n",
    "        return tich\n",
    "        \n",
    "    def division(self):\n",
    "        # code here\n",
    "        thuong = self.number1/self.number2\n",
    "        return thuong\n",
    "        \n",
    "    def add(self):\n",
    "    # code here\n",
    "        tong = self.number1+self.number2\n",
    "        return tong\n",
    "\n",
    "        \n",
    "    def subtract(self):\n",
    "        # code here\n",
    "        hieu = self.number1-self.number2\n",
    "        return hieu\n",
    "\n",
    "a = Equation(5,5)\n",
    "a.print_info()\n",
    "a.division()\n",
    "print(a.multiply(),a.division(),a.add(),a.subtract())"
   ]
  }
 ],
 "metadata": {
  "kernelspec": {
   "display_name": "Python 3 (ipykernel)",
   "language": "python",
   "name": "python3"
  },
  "language_info": {
   "codemirror_mode": {
    "name": "ipython",
    "version": 3
   },
   "file_extension": ".py",
   "mimetype": "text/x-python",
   "name": "python",
   "nbconvert_exporter": "python",
   "pygments_lexer": "ipython3",
   "version": "3.11.4"
  }
 },
 "nbformat": 4,
 "nbformat_minor": 5
}
