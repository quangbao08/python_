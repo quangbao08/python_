{
 "cells": [
  {
   "cell_type": "markdown",
   "id": "7ac14915",
   "metadata": {},
   "source": [
    "# Nhập xuất dữ liệu và String\n",
    "## Cách nhập xuất dữ liệu"
   ]
  },
  {
   "cell_type": "markdown",
   "id": "0f202ae8",
   "metadata": {},
   "source": [
    "### Xuất dữ liệu ra màn hình\n",
    "Để in các nội dung mà chúng ta mong muốn ra màn hình, ta sử dụng lệnh print()"
   ]
  },
  {
   "cell_type": "code",
   "execution_count": 1,
   "id": "a6d3f260",
   "metadata": {},
   "outputs": [
    {
     "name": "stdout",
     "output_type": "stream",
     "text": [
      "python is very easy\n"
     ]
    }
   ],
   "source": [
    "# Ví dụ: In ra nội dung \"python is very easy\"\n",
    "print(\"python is very easy\")"
   ]
  },
  {
   "cell_type": "markdown",
   "id": "7733925a",
   "metadata": {},
   "source": [
    "### Các cách custom với lệnh print"
   ]
  },
  {
   "cell_type": "markdown",
   "id": "292ab570",
   "metadata": {},
   "source": [
    "Để in một nội dung kèm theo giá trị của biến, ta có các cách sau:"
   ]
  },
  {
   "cell_type": "code",
   "execution_count": 15,
   "id": "20ff912c",
   "metadata": {},
   "outputs": [],
   "source": [
    "food_1 = \"chocolate\"\n",
    "food_2 = \"sandwich\"\n",
    "# I love chocolate and I hate sandwich"
   ]
  },
  {
   "cell_type": "code",
   "execution_count": 4,
   "id": "6407a448",
   "metadata": {},
   "outputs": [
    {
     "name": "stdout",
     "output_type": "stream",
     "text": [
      "I love chocolate and I hate sandwich\n"
     ]
    }
   ],
   "source": [
    "# In trực tiếp\n",
    "print(\"I love chocolate and I hate sandwich\")"
   ]
  },
  {
   "cell_type": "code",
   "execution_count": 7,
   "id": "27d098b8",
   "metadata": {},
   "outputs": [
    {
     "name": "stdout",
     "output_type": "stream",
     "text": [
      "I love chocolate and I hate sandwich\n"
     ]
    }
   ],
   "source": [
    "# In bằng cách ghép các nội dung với nhau\n",
    "print(\"I love\",food_1,\"and I hate\",food_2, sep=\" \")"
   ]
  },
  {
   "cell_type": "code",
   "execution_count": 14,
   "id": "717666f2",
   "metadata": {},
   "outputs": [
    {
     "name": "stdout",
     "output_type": "stream",
     "text": [
      "I love chocolate and I hate sandwich\n"
     ]
    }
   ],
   "source": [
    "# Sử dụng String Format\n",
    "print(f\"I love {food_1} and I hate {food_2}\")"
   ]
  },
  {
   "cell_type": "code",
   "execution_count": 16,
   "id": "c7276e05",
   "metadata": {},
   "outputs": [
    {
     "name": "stdout",
     "output_type": "stream",
     "text": [
      "I love chocolate and I have sandwich "
     ]
    }
   ],
   "source": [
    "# Sử dụng nhiều lệnh print\n",
    "print(\"I love\",end=\" \")\n",
    "print(food_1,end=\" \")\n",
    "print(\"and I have\",end=\" \")\n",
    "print(food_2,end=\" \")"
   ]
  },
  {
   "cell_type": "markdown",
   "id": "e10788fb",
   "metadata": {},
   "source": [
    "### Nhập dữ liệu\n",
    "Để nhập dữ liệu vào chương trình python, chúng ta sử dụng hàm input()"
   ]
  },
  {
   "cell_type": "code",
   "execution_count": 19,
   "id": "b8b8afd3",
   "metadata": {},
   "outputs": [
    {
     "name": "stdin",
     "output_type": "stream",
     "text": [
      "Please enter your name: Phuong\n"
     ]
    },
    {
     "name": "stdout",
     "output_type": "stream",
     "text": [
      "Phuong\n",
      "<class 'str'>\n"
     ]
    }
   ],
   "source": [
    "name = input(\"Please enter your name:\")\n",
    "print(name)\n",
    "print(type(name))"
   ]
  },
  {
   "cell_type": "code",
   "execution_count": 22,
   "id": "ac5e247e-a6de-4416-bab4-346bb6bc2f01",
   "metadata": {},
   "outputs": [
    {
     "name": "stdin",
     "output_type": "stream",
     "text": [
      "Please enter a month:  3\n"
     ]
    },
    {
     "name": "stdout",
     "output_type": "stream",
     "text": [
      "3\n",
      "<class 'int'>\n"
     ]
    }
   ],
   "source": [
    "month = int(input(\"Please enter a month: \"))\n",
    "print(month)\n",
    "print(type(month))"
   ]
  },
  {
   "cell_type": "markdown",
   "id": "5df9a15d-a91b-4e2f-9a74-7084921e45fa",
   "metadata": {},
   "source": []
  },
  {
   "cell_type": "markdown",
   "id": "337f9c15",
   "metadata": {},
   "source": [
    "#### Thực hành: Viết chương trình nhập vào chiều dài và chiều rộng của hình chữ nhật, sau đó in ra chu vi và diện tích của hình chữ nhật đó"
   ]
  },
  {
   "cell_type": "code",
   "execution_count": 23,
   "id": "add68103",
   "metadata": {},
   "outputs": [
    {
     "name": "stdin",
     "output_type": "stream",
     "text": [
      "Nhap chieu dai cua hinh chu nhat:  3\n"
     ]
    },
    {
     "name": "stdout",
     "output_type": "stream",
     "text": [
      "3\n"
     ]
    },
    {
     "name": "stdin",
     "output_type": "stream",
     "text": [
      "Nhap chieu rong cua hinh chu nhat:  4\n"
     ]
    },
    {
     "name": "stdout",
     "output_type": "stream",
     "text": [
      "4\n"
     ]
    }
   ],
   "source": [
    "# Nhập các kích thước của hình chữ nhật\n",
    "dai = int(input(\"Nhap chieu dai cua hinh chu nhat: \"))\n",
    "print(dai)\n",
    "rong = int(input(\"Nhap chieu rong cua hinh chu nhat: \"))\n",
    "print(rong)"
   ]
  },
  {
   "cell_type": "code",
   "execution_count": 28,
   "id": "7a1cd73e",
   "metadata": {},
   "outputs": [],
   "source": [
    "# Tính toán chu vi, diện tích\n",
    "chuvi = (dai+rong)*2\n",
    "dientich = dai*rong"
   ]
  },
  {
   "cell_type": "code",
   "execution_count": 29,
   "id": "d0adf735",
   "metadata": {},
   "outputs": [
    {
     "name": "stdout",
     "output_type": "stream",
     "text": [
      "Chu vi cua hinh chu nhat la: 14\n",
      "Dien tich cua hinh chu nhat la: 12\n",
      "Chu vi cua hinh chu nhat la 14\n",
      "Dien tich cua hinh chu nhat la 12\n",
      "Chu vi cua hinh chu nhat la 14\n",
      "Dien tich cua hinh chu nhat la 12\n"
     ]
    }
   ],
   "source": [
    "# In kết quả ra màn hình bằng 3 cách\n",
    "print(\"Chu vi cua hinh chu nhat la: \",end=\"\")\n",
    "print(chuvi)\n",
    "print(\"Dien tich cua hinh chu nhat la: \",end=\"\")\n",
    "print(dientich)\n",
    "print(\"Chu vi cua hinh chu nhat la\",chuvi)\n",
    "print(\"Dien tich cua hinh chu nhat la\",dientich)\n",
    "print(f\"Chu vi cua hinh chu nhat la {chuvi}\")\n",
    "print(f\"Dien tich cua hinh chu nhat la {dientich}\")"
   ]
  },
  {
   "cell_type": "markdown",
   "id": "fb54cb77",
   "metadata": {},
   "source": [
    "#### Thực hành: Viết chương trình nhập vào số đo cạnh và mã màu của tam giác đều, sau đó sử dụng turtle để vẽ ra hình tam giác có số đo và màu tương ứng"
   ]
  },
  {
   "cell_type": "code",
   "execution_count": null,
   "id": "7583b308",
   "metadata": {},
   "outputs": [],
   "source": []
  },
  {
   "cell_type": "markdown",
   "id": "fa7cb208",
   "metadata": {},
   "source": [
    "## Cú pháp import"
   ]
  },
  {
   "cell_type": "markdown",
   "id": "ab2a2ea5",
   "metadata": {},
   "source": [
    "Để sử dụng một module từ bên ngoài, chúng ta sẽ sử dụng từ khóa import. Sau đây là ví dụ về một số cách import phổ biến."
   ]
  },
  {
   "cell_type": "markdown",
   "id": "bd6de377",
   "metadata": {},
   "source": [
    "### Random một giá trị ngẫu nhiên"
   ]
  },
  {
   "cell_type": "code",
   "execution_count": null,
   "id": "ce5547f5",
   "metadata": {},
   "outputs": [],
   "source": []
  },
  {
   "cell_type": "markdown",
   "id": "dfa93dc0",
   "metadata": {},
   "source": [
    "### Thực hiện các phép toán số học"
   ]
  },
  {
   "cell_type": "code",
   "execution_count": 8,
   "id": "4f06f722",
   "metadata": {},
   "outputs": [],
   "source": [
    "# import toàn bộ module"
   ]
  },
  {
   "cell_type": "code",
   "execution_count": null,
   "id": "6b9e471b",
   "metadata": {},
   "outputs": [],
   "source": [
    "# import một phần trong module"
   ]
  },
  {
   "cell_type": "markdown",
   "id": "391969e7",
   "metadata": {},
   "source": [
    "## Xử lý String trong python"
   ]
  },
  {
   "cell_type": "markdown",
   "id": "ab461669",
   "metadata": {},
   "source": [
    "### String là gì?\n",
    "String là một chuỗi gồm các ký tự Unicode"
   ]
  },
  {
   "cell_type": "markdown",
   "id": "94a27b90",
   "metadata": {},
   "source": [
    "### Khởi tạo một string"
   ]
  },
  {
   "cell_type": "code",
   "execution_count": 31,
   "id": "b14f4fcc",
   "metadata": {},
   "outputs": [
    {
     "name": "stdout",
     "output_type": "stream",
     "text": [
      "Python Fundamental\n"
     ]
    }
   ],
   "source": [
    "# one-line string\n",
    "course_name='Python Fundamental'\n",
    "print(course_name)"
   ]
  },
  {
   "cell_type": "code",
   "execution_count": 30,
   "id": "9cc506a7",
   "metadata": {},
   "outputs": [
    {
     "name": "stdout",
     "output_type": "stream",
     "text": [
      "SIMPLE CALCULATOR APPLICATION\n",
      "This application is developed to help user calculate simple formula\n",
      "Main features:\n",
      "1. Addition\n",
      "2. Subtraction\n",
      "3. Multiplication\n",
      "4. Division\n"
     ]
    }
   ],
   "source": [
    "# multi-line string\n",
    "instruction = \"\"\"SIMPLE CALCULATOR APPLICATION\n",
    "This application is developed to help user calculate simple formula\n",
    "Main features:\n",
    "1. Addition\n",
    "2. Subtraction\n",
    "3. Multiplication\n",
    "4. Division\"\"\"\n",
    "print(instruction)"
   ]
  },
  {
   "cell_type": "markdown",
   "id": "8f4270fd",
   "metadata": {},
   "source": [
    "### Các thao tác phổ biến với string"
   ]
  },
  {
   "cell_type": "code",
   "execution_count": 32,
   "id": "c825f890",
   "metadata": {},
   "outputs": [
    {
     "name": "stdout",
     "output_type": "stream",
     "text": [
      "18\n"
     ]
    }
   ],
   "source": [
    "# Kiểm tra độ dài string\n",
    "content =\"Python Fundamental\"\n",
    "print(len(content)"
   ]
  },
  {
   "cell_type": "code",
   "execution_count": 34,
   "id": "6de96621",
   "metadata": {},
   "outputs": [
    {
     "name": "stdout",
     "output_type": "stream",
     "text": [
      "O\n",
      "O\n"
     ]
    }
   ],
   "source": [
    "# Truy xuất ký tự bằng cơ chế indexing và reverse indexing\n",
    "content =\"XOXXOOX\"\n",
    "print(content[1]) #indexing address of symbol instring\n",
    "print(content[-6]) #reversed indexing"
   ]
  },
  {
   "cell_type": "markdown",
   "id": "a4f949d9",
   "metadata": {},
   "source": [
    "#### Thực hành: Viết chương trình nhập vào một chuỗi bất kỳ, sau đó in ra ký tự đầu tiên và ký tự cuối cùng của chuỗi đó."
   ]
  },
  {
   "cell_type": "code",
   "execution_count": 35,
   "id": "14833f18",
   "metadata": {},
   "outputs": [
    {
     "name": "stdin",
     "output_type": "stream",
     "text": [
      "Please input a string:  I love you\n"
     ]
    },
    {
     "name": "stdout",
     "output_type": "stream",
     "text": [
      "I love you\n",
      "I\n",
      "u\n"
     ]
    }
   ],
   "source": [
    "content = input(\"Please input a string: \")\n",
    "print(content)\n",
    "print(content[0])\n",
    "print(content[len(content)-1])"
   ]
  },
  {
   "cell_type": "code",
   "execution_count": 7,
   "id": "9aad2f16",
   "metadata": {},
   "outputs": [
    {
     "name": "stdout",
     "output_type": "stream",
     "text": [
      "+7\n",
      "1,Long,Python Fundamental\n",
      "Python Fundamental\n",
      "Pto udmna\n",
      "7+,03:12,03:91,7-5-3,latnemadnuF nohtyP,gnoL,1\n"
     ]
    }
   ],
   "source": [
    "# Cắt string theo index\n",
    "content = \"1,Long,Python Fundamental,3-5-7,19:30,21:30,+7\"\n",
    "print(content[-2:]) # cat String tu -2 den cuoi String\n",
    "print(content[:25]) # cat tu dau String toi 24\n",
    "print(content[7:25])\n",
    "print(content[7:25:2])\n",
    "print(content[::-1])"
   ]
  },
  {
   "cell_type": "code",
   "execution_count": 8,
   "id": "6ec63f90",
   "metadata": {},
   "outputs": [
    {
     "name": "stdout",
     "output_type": "stream",
     "text": [
      "HelloWorld\n",
      "HelloHelloHello\n"
     ]
    }
   ],
   "source": [
    "# Ghép chuỗi và lặp chuỗi\n",
    "str1 = \"Hello\"\n",
    "str2 = \"World\"\n",
    "print(str1 + str2) # ghep chuoi\n",
    "print(str1 * 3) # Lặp chuỗi"
   ]
  },
  {
   "cell_type": "markdown",
   "id": "84c2dcb9",
   "metadata": {},
   "source": [
    "#### Thực hành: Xử lý và in ra các thông tin tương ứng trong chuỗi"
   ]
  },
  {
   "cell_type": "code",
   "execution_count": 13,
   "id": "cd71f135",
   "metadata": {},
   "outputs": [
    {
     "name": "stdout",
     "output_type": "stream",
     "text": [
      "course_name: Python Fundamental, schedule: 3-5-7, star_time: 19:30, end_time: 21:30, GMT: +7\n"
     ]
    }
   ],
   "source": [
    "content = \"Python Fundamental,3-5-7,19:30,21:30,+7\"\n",
    "course_name = content[:18] \n",
    "schedule = content[19:24]\n",
    "star_time = content[25:30]\n",
    "end_time = content[31:36]\n",
    "GMT = content[-2:]\n",
    "print(f\"course_name: {course_name}, schedule: {schedule}, star_time: {star_time}, end_time: {end_time}, GMT: {GMT}\")"
   ]
  },
  {
   "cell_type": "markdown",
   "id": "7cbd965f",
   "metadata": {},
   "source": [
    "### Các hàm thông dụng khi xử lý string"
   ]
  },
  {
   "cell_type": "code",
   "execution_count": 15,
   "id": "eb5932a1",
   "metadata": {},
   "outputs": [
    {
     "name": "stdout",
     "output_type": "stream",
     "text": [
      "14\n"
     ]
    }
   ],
   "source": [
    "# len\n",
    "content = \"CodeGym Online\"\n",
    "print(len(content))"
   ]
  },
  {
   "cell_type": "code",
   "execution_count": 17,
   "id": "6bef6d33",
   "metadata": {},
   "outputs": [
    {
     "name": "stdout",
     "output_type": "stream",
     "text": [
      "2\n"
     ]
    }
   ],
   "source": [
    "# count\n",
    "content = \"CodeGym Online Online\"\n",
    "print(content.count(\"Online\"))"
   ]
  },
  {
   "cell_type": "code",
   "execution_count": 20,
   "id": "1582bbd8",
   "metadata": {},
   "outputs": [
    {
     "name": "stdout",
     "output_type": "stream",
     "text": [
      "CODEGYM ONLINE ONLINE\n",
      "codegym online online\n",
      "Codegym online online\n"
     ]
    }
   ],
   "source": [
    "# upper, lower\n",
    "content = \"CodeGym Online Online\"\n",
    "print(content.upper())\n",
    "print(content.lower())\n",
    "print(content.capitalize())"
   ]
  },
  {
   "cell_type": "code",
   "execution_count": 24,
   "id": "0d08f708",
   "metadata": {},
   "outputs": [
    {
     "name": "stdout",
     "output_type": "stream",
     "text": [
      "Dao Thanh Phuong    \n",
      "      Dao Thanh Phuong\n",
      "Dao Thanh Phuong\n"
     ]
    }
   ],
   "source": [
    "# lstrip, rstrip, strip\n",
    "name = \"      Dao Thanh Phuong    \" #trailing white spaces\n",
    "print(name.lstrip())\n",
    "print(name.rstrip())\n",
    "print(name.strip())"
   ]
  },
  {
   "cell_type": "code",
   "execution_count": 25,
   "id": "62180d52",
   "metadata": {},
   "outputs": [
    {
     "name": "stdout",
     "output_type": "stream",
     "text": [
      "['Python Fundamental', '3-5-7', '19:30', '21:30', '+7']\n"
     ]
    }
   ],
   "source": [
    "# split\n",
    "content = \"Python Fundamental,3-5-7,19:30,21:30,+7\"\n",
    "print(content.split(','))"
   ]
  }
 ],
 "metadata": {
  "kernelspec": {
   "display_name": "Python 3 (ipykernel)",
   "language": "python",
   "name": "python3"
  },
  "language_info": {
   "codemirror_mode": {
    "name": "ipython",
    "version": 3
   },
   "file_extension": ".py",
   "mimetype": "text/x-python",
   "name": "python",
   "nbconvert_exporter": "python",
   "pygments_lexer": "ipython3",
   "version": "3.11.4"
  }
 },
 "nbformat": 4,
 "nbformat_minor": 5
}
