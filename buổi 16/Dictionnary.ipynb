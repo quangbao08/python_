{
 "cells": [
  {
   "cell_type": "markdown",
   "id": "a20f121d",
   "metadata": {},
   "source": [
    "# Dictionnary\n",
    "\n",
    "Dictionnary là một dạng list đặc biệt, nó khác list ở chỗ không lưu trữ các giá trị theo chỉ số vị trí, thay vào đó Dictionary sẽ lưu trữ các giá trị theo key\n",
    "\n",
    "##### Tài liệu tham khảo: https://www.w3schools.com/python/python_dictionaries.asp\n",
    "\n",
    "### Khai báo một dictionary\n",
    "\n",
    "Cú pháp:\n",
    "\n",
    "`<tên dictionary> = {}`\n",
    "\n",
    "### Dictionary được khai báo bằng hai dấu hoặc nhọn\n",
    "\n",
    "Đây là một dictionary rỗng\n",
    "\n",
    "<b>Ví dụ 1:</b>\n",
    "\n",
    "`a = {}`\n",
    "\n",
    "a là một dictionary rỗng\n",
    "\n",
    "<b>Ví dụ 2:</b>\n",
    "\n",
    "`b = {\"name\": \"John Smith\", \"course\": \"Python\", \"is_studying\": True}`\n",
    "\n",
    "b là một dictionary có 3 key, mõi key đều có một giá trị riêng biệt\n",
    "\n",
    "Key có thể mang kiểu dữ liệu là chuỗi hoặc số\n",
    "\n",
    "##### Mỗi một key đều phải có giá trị của riêng nó, không thể khai báo key không có giá trị\n",
    "\n",
    "<b>Hãy khai báo một dictionary có 3 phần tử</b>"
   ]
  },
  {
   "cell_type": "code",
   "execution_count": 1,
   "id": "d835f461",
   "metadata": {},
   "outputs": [
    {
     "name": "stdout",
     "output_type": "stream",
     "text": [
      "<class 'dict'>\n"
     ]
    }
   ],
   "source": [
    "a = {}\n",
    "print(type(a))\n",
    "\n",
    "b = {\"name\": \"John Smith\", \"course\": \"Python\", \"is_studying\": True}"
   ]
  },
  {
   "cell_type": "markdown",
   "id": "be1e321c",
   "metadata": {},
   "source": [
    "### Thêm key vào dictionary\n",
    "\n",
    "Cú pháp:\n",
    "\n",
    "`<tên dictionary>[<key>] = <giá trị>`\n",
    "\n",
    "<b>Ví dụ 1:</b>\n",
    "\n",
    "`a = {}\n",
    "a[\"brand\"] = \"Aquafina\"`\n",
    "\n",
    "a là một dictionary có một phần tử, phần tử đó có key là \"brand\" và giá trị của key đó là \"Aquafina\"\n",
    "\n",
    "##### Lưu ý, nếu trong trường hợp đã tồn tại key trong dictionary, dùng lệnh trên sẽ thay đổi giá trị key đó (không phải thêm key khác vào)\n",
    "\n",
    "<b>Ví dụ 2:</b>\n",
    "\n",
    "`a = {}\n",
    "a[\"brand\"] = \"Aquafina\"\n",
    "a[\"brand\"] = \"Lavie\"`\n",
    "\n",
    "a vẫn là một dictionary có một phần tử, phần tử đó có key là \"brand\" và giá trị của key đó là \"Lavie\"\n",
    "\n",
    "<b>Hãy khai báo một dictionary không có phần tử nào, sau đó thêm một phần tử vào dictionary đó</b>"
   ]
  },
  {
   "cell_type": "code",
   "execution_count": 3,
   "id": "7573ebef",
   "metadata": {},
   "outputs": [
    {
     "name": "stdout",
     "output_type": "stream",
     "text": [
      "{'brand': 'Aquafina'}\n",
      "{'brand': 'Lavie'}\n"
     ]
    }
   ],
   "source": [
    "a = {}\n",
    "a[\"brand\"] = \"Aquafina\"\n",
    "\n",
    "print(a)\n",
    "a[\"brand\"] = \"Lavie\"\n",
    "print(a)"
   ]
  },
  {
   "cell_type": "markdown",
   "id": "65c98825",
   "metadata": {},
   "source": [
    "### Truy xuất phần tử trong dictionary\n",
    "\n",
    "Cú pháp:\n",
    "\n",
    "`<tên dictionary>[<key>]`\n",
    "\n",
    "<b>Ví dụ:</b>\n",
    "\n",
    "`b = {\"name\": \"John Smith\", \"course\": \"Python\", \"is_studying\": True}\n",
    "print(b[\"name\"])`\n",
    "\n",
    "Màn hình sẽ in: John Smith\n",
    "\n",
    "<b>Hãy khai báo một dictionary rồi in ra màn hình một phần tử bất kỳ trong dictionary đó</b>"
   ]
  },
  {
   "cell_type": "code",
   "execution_count": 8,
   "id": "f6159385",
   "metadata": {},
   "outputs": [
    {
     "name": "stdout",
     "output_type": "stream",
     "text": [
      "Python\n"
     ]
    }
   ],
   "source": [
    "b = {\"name\": \"John Smith\", \"course\": \"Python\", \"is_studying\": True}\n",
    "print(b[\"course\"])"
   ]
  },
  {
   "cell_type": "markdown",
   "id": "afa92f87",
   "metadata": {},
   "source": [
    "### Sao chép dictionary\n",
    "\n",
    "##### Việc sao chép dictionary được thực hiện hệt như sao chép list, chúng ta cần phải sử dụng lệnh copy()"
   ]
  },
  {
   "cell_type": "markdown",
   "id": "ef7e800d",
   "metadata": {},
   "source": [
    "### Duyệt dictionary bằng lệnh for\n",
    "\n",
    "Cú pháp:\n",
    "\n",
    "`for <tên biến> in <tên dictionary>:`\n",
    "\n",
    "Biến sẽ có giá trị là từng key trong dictionary\n",
    "\n",
    "<b>Ví dụ:</b>\n",
    "\n",
    "`a = {\"name\": \"John Smith\", \"course\": \"Python\", \"is_studying\": True}\n",
    "for i in a:\n",
    "    print(i)`\n",
    "    \n",
    "Màn hình sẽ in ra:\n",
    "\n",
    "name\n",
    "\n",
    "course\n",
    "\n",
    "is_studying\n",
    "\n",
    "<b>Hãy khai báo một dictionary rồi in ra màn hình toàn bộ giá trị trong dictionary đó</b>"
   ]
  },
  {
   "cell_type": "code",
   "execution_count": 9,
   "id": "3bdd1508",
   "metadata": {},
   "outputs": [
    {
     "ename": "SyntaxError",
     "evalue": "expected ':' (1893609949.py, line 3)",
     "output_type": "error",
     "traceback": [
      "\u001b[1;36m  Cell \u001b[1;32mIn[9], line 3\u001b[1;36m\u001b[0m\n\u001b[1;33m    for i in a.key\u001b[0m\n\u001b[1;37m                       ^\u001b[0m\n\u001b[1;31mSyntaxError\u001b[0m\u001b[1;31m:\u001b[0m expected ':'\n"
     ]
    }
   ],
   "source": [
    "a = {\"name\": \"John Smith\", \"course\": \"Python\", \"is_studying\": True}\n",
    "\n",
    "for i in a.key     \n",
    "print(i)"
   ]
  },
  {
   "cell_type": "markdown",
   "id": "6d7615c0",
   "metadata": {},
   "source": [
    "## Ghép dictionary\n",
    "Cú pháp:\n",
    "\n",
    "`<dictionary cần ghéo>.update(<dictionary được ghép>)`\n",
    "\n",
    "Dictionary cần ghép sẽ có thêm các key và value từ dictionary được ghép thêm vào."
   ]
  },
  {
   "cell_type": "code",
   "execution_count": 10,
   "id": "b751b286",
   "metadata": {},
   "outputs": [
    {
     "name": "stdout",
     "output_type": "stream",
     "text": [
      "{'name': 'John Smith', 'course': 'Python', 'is_studying': True, 'height': 175, 'weight': 76, 'eye_color': 'brown'}\n"
     ]
    }
   ],
   "source": [
    "a = {\"name\": \"John Smith\", \"course\": \"Python\", \"is_studying\": True}\n",
    "b = {\"height\": 175, \"weight\": 76, \"eye_color\": \"brown\"}\n",
    "\n",
    "a.update(b)\n",
    "print(a)"
   ]
  }
 ],
 "metadata": {
  "kernelspec": {
   "display_name": "Python 3 (ipykernel)",
   "language": "python",
   "name": "python3"
  },
  "language_info": {
   "codemirror_mode": {
    "name": "ipython",
    "version": 3
   },
   "file_extension": ".py",
   "mimetype": "text/x-python",
   "name": "python",
   "nbconvert_exporter": "python",
   "pygments_lexer": "ipython3",
   "version": "3.11.4"
  }
 },
 "nbformat": 4,
 "nbformat_minor": 5
}
