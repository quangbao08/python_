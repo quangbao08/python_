{
 "cells": [
  {
   "cell_type": "code",
   "execution_count": 4,
   "id": "f0df1600-9615-4a40-8f59-32276d57858d",
   "metadata": {},
   "outputs": [],
   "source": [
    "import turtle\n",
    "t = turtle.Turtle()\n",
    "t.hideturtle()\n",
    "t.pencolor('red')\n",
    "def square_draw(w):\n",
    "    for i in range(4):\n",
    "        t.forward(w)\n",
    "        t.right(90)\n",
    "    turtle.done()\n",
    "square_draw(100)"
   ]
  }
 ],
 "metadata": {
  "kernelspec": {
   "display_name": "Python 3 (ipykernel)",
   "language": "python",
   "name": "python3"
  },
  "language_info": {
   "codemirror_mode": {
    "name": "ipython",
    "version": 3
   },
   "file_extension": ".py",
   "mimetype": "text/x-python",
   "name": "python",
   "nbconvert_exporter": "python",
   "pygments_lexer": "ipython3",
   "version": "3.11.4"
  }
 },
 "nbformat": 4,
 "nbformat_minor": 5
}
