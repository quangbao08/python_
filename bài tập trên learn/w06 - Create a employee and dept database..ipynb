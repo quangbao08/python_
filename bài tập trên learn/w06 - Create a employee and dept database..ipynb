{
 "cells": [
  {
   "cell_type": "code",
   "execution_count": 3,
   "id": "08ff9b31-485c-4040-add9-c0af3c2f68a1",
   "metadata": {},
   "outputs": [
    {
     "name": "stdin",
     "output_type": "stream",
     "text": [
      "Please Enter Emp Id : 1004\n"
     ]
    },
    {
     "name": "stdout",
     "output_type": "stream",
     "text": [
      "name  :  Anne\n",
      "doj  :  01-01-86\n",
      "dept  :  SUPPORT\n"
     ]
    }
   ],
   "source": [
    "dept_db = {\n",
    "      101 : 'HRD',\n",
    "      102 : 'FINANCE',\n",
    "      103 : 'ACCOUNTS',\n",
    "      104 : 'SALES',\n",
    "      105 : 'ENGINEERING',\n",
    "      106 : 'SUPPORT'\n",
    "     }\n",
    " \n",
    "\n",
    "employee_db = { \n",
    "1000: dict(name=\"Alex\",   doj='01-10-89',dept=103),\n",
    "1001: dict(name=\"Mary\",   doj='01-11-88', dept=101),\n",
    "1002: dict(name=\"John\",   doj='01-10-87', dept=104),\n",
    "1003: dict(name=\"David\",  doj='01-06-89', dept=105),\n",
    "1004: dict(name=\"Anne\",   doj='01-01-86', dept=106),\n",
    "1005: dict(name=\"Samson\", doj='01-02-89', dept=101)\n",
    "}\n",
    "\n",
    " \n",
    "def get_emp_info(emp_id):\n",
    "    if emp_id in employee_db:\n",
    "        return employee_db[emp_id]\n",
    "    else:\n",
    "        print(emp_id, \" doesn't exists \")\n",
    "        return\n",
    "\n",
    "\n",
    "def get_dept_info(dept_id):\n",
    "    if dept_id in dept_db:\n",
    "        return dept_db[dept_id]\n",
    "    else:\n",
    "        print(dept_id, \" doesn't exists \")\n",
    "        return\n",
    "\n",
    "\n",
    "def display_emp_data(emp_data):\n",
    "    for key,value in emp_data.items():\n",
    "        if key == 'dept':\n",
    "            print(key, \" : \", get_dept_info(value))\n",
    "        else:\n",
    "            print(key, \" : \", value)\n",
    "\n",
    "\n",
    "emp_id = int(input(\"Please Enter Emp Id :\"))\n",
    "\n",
    "emp_data = get_emp_info(emp_id)\n",
    "\n",
    "if emp_data:\n",
    "    display_emp_data(emp_data)"
   ]
  }
 ],
 "metadata": {
  "kernelspec": {
   "display_name": "Python 3 (ipykernel)",
   "language": "python",
   "name": "python3"
  },
  "language_info": {
   "codemirror_mode": {
    "name": "ipython",
    "version": 3
   },
   "file_extension": ".py",
   "mimetype": "text/x-python",
   "name": "python",
   "nbconvert_exporter": "python",
   "pygments_lexer": "ipython3",
   "version": "3.11.4"
  }
 },
 "nbformat": 4,
 "nbformat_minor": 5
}
