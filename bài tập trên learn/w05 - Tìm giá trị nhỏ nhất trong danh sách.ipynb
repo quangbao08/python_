{
 "cells": [
  {
   "cell_type": "code",
   "execution_count": 1,
   "id": "2f3fa9a8-a94a-448a-a7d2-3d00ab0e8db3",
   "metadata": {},
   "outputs": [
    {
     "name": "stdout",
     "output_type": "stream",
     "text": [
      "Min number:  12\n"
     ]
    }
   ],
   "source": [
    "numbers = [80, 890, 345, 12]\n",
    "\n",
    "def get_min_numbers(numbers):\n",
    "    result = numbers[0]\n",
    "    \n",
    "    for num in numbers:\n",
    "        if result > num:\n",
    "            result = num\n",
    "    \n",
    "    return result\n",
    "\n",
    "min_number = get_min_numbers(numbers)\n",
    "print(\"Min number: \", min_number)"
   ]
  }
 ],
 "metadata": {
  "kernelspec": {
   "display_name": "Python 3 (ipykernel)",
   "language": "python",
   "name": "python3"
  },
  "language_info": {
   "codemirror_mode": {
    "name": "ipython",
    "version": 3
   },
   "file_extension": ".py",
   "mimetype": "text/x-python",
   "name": "python",
   "nbconvert_exporter": "python",
   "pygments_lexer": "ipython3",
   "version": "3.11.4"
  }
 },
 "nbformat": 4,
 "nbformat_minor": 5
}
