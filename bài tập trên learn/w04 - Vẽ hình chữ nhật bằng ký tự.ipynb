{
 "cells": [
  {
   "cell_type": "code",
   "execution_count": 2,
   "id": "2604a0b4-2a36-46e8-a683-d69cb44b3c16",
   "metadata": {},
   "outputs": [
    {
     "name": "stdin",
     "output_type": "stream",
     "text": [
      "Your char?:  *\n",
      "Width?:  9\n",
      "Height?:  7\n"
     ]
    },
    {
     "name": "stdout",
     "output_type": "stream",
     "text": [
      "*********\n",
      "*       *\n",
      "*       *\n",
      "*       *\n",
      "*       *\n",
      "*       *\n",
      "*********\n"
     ]
    }
   ],
   "source": [
    "char = input('Your char?: ')\n",
    "width = int(input('Width?: '))\n",
    "height = int(input('Height?: '))\n",
    "\n",
    "for i in range(1,height + 1):\n",
    "    print_str = ''\n",
    "    for j in range(1,width + 1):\n",
    "        if i == 1 or i == height:\n",
    "            print_str += char\n",
    "        else:\n",
    "            if j == 1 or j == width:\n",
    "                print_str += char\n",
    "            else:\n",
    "                print_str += ' '\n",
    "    print(print_str)"
   ]
  }
 ],
 "metadata": {
  "kernelspec": {
   "display_name": "Python 3 (ipykernel)",
   "language": "python",
   "name": "python3"
  },
  "language_info": {
   "codemirror_mode": {
    "name": "ipython",
    "version": 3
   },
   "file_extension": ".py",
   "mimetype": "text/x-python",
   "name": "python",
   "nbconvert_exporter": "python",
   "pygments_lexer": "ipython3",
   "version": "3.11.4"
  }
 },
 "nbformat": 4,
 "nbformat_minor": 5
}
