{
 "cells": [
  {
   "cell_type": "code",
   "execution_count": 1,
   "id": "4f8d6438-b413-47e5-971d-607b82a65502",
   "metadata": {},
   "outputs": [
    {
     "name": "stdin",
     "output_type": "stream",
     "text": [
      "Nhập cân nặng kg:  67\n",
      "Nhập chiều cao cm:  167\n"
     ]
    },
    {
     "name": "stdout",
     "output_type": "stream",
     "text": [
      "Bình thường\n"
     ]
    }
   ],
   "source": [
    "kg = int(input('Nhập cân nặng kg: '))\n",
    "m = int (input('Nhập chiều cao cm: '))\n",
    "\n",
    "bmi = kg / ((m/100) ** 2)\n",
    "\n",
    "if bmi < 16:\n",
    "    print(f'Gầy cấp độ III')\n",
    "    \n",
    "elif bmi < 17:\n",
    "    print(f'Gầy cấp độ II')\n",
    "\n",
    "elif bmi < 18.5:\n",
    "    print(f'Gầy cấp độ I')\n",
    "\n",
    "elif bmi < 25:\n",
    "    print(f'Bình thường')\n",
    "\n",
    "elif bmi < 30:\n",
    "    print(f'Thừa cân')\n",
    "\n",
    "elif bmi < 35:\n",
    "    print(f'Béo phì cấp độ I')\n",
    "\n",
    "elif bmi < 40:\n",
    "    print(f'Béo phì cấp độ II')\n",
    "\n",
    "else:\n",
    "    print(f'Béo phì cấp độ III')"
   ]
  }
 ],
 "metadata": {
  "kernelspec": {
   "display_name": "Python 3 (ipykernel)",
   "language": "python",
   "name": "python3"
  },
  "language_info": {
   "codemirror_mode": {
    "name": "ipython",
    "version": 3
   },
   "file_extension": ".py",
   "mimetype": "text/x-python",
   "name": "python",
   "nbconvert_exporter": "python",
   "pygments_lexer": "ipython3",
   "version": "3.11.4"
  }
 },
 "nbformat": 4,
 "nbformat_minor": 5
}
