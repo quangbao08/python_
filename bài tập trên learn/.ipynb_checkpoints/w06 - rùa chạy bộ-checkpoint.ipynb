{
 "cells": [
  {
   "cell_type": "code",
   "execution_count": 1,
   "id": "1b59a969-5b04-43f0-8530-ce4eda59fe9f",
   "metadata": {},
   "outputs": [
    {
     "ename": "TypeError",
     "evalue": "'Turtle' object is not iterable",
     "output_type": "error",
     "traceback": [
      "\u001b[1;31m---------------------------------------------------------------------------\u001b[0m",
      "\u001b[1;31mTypeError\u001b[0m                                 Traceback (most recent call last)",
      "Cell \u001b[1;32mIn[1], line 19\u001b[0m\n\u001b[0;32m     17\u001b[0m all_turtles\u001b[38;5;241m.\u001b[39mappend(turtles)\n\u001b[0;32m     18\u001b[0m \u001b[38;5;28;01mglobal\u001b[39;00m run\n\u001b[1;32m---> 19\u001b[0m \u001b[38;5;28;01mfor\u001b[39;00m turtle \u001b[38;5;129;01min\u001b[39;00m turtles:\n\u001b[0;32m     20\u001b[0m     turtle\u001b[38;5;241m.\u001b[39mforward(random\u001b[38;5;241m.\u001b[39mchoice(turtle_speed))\n\u001b[0;32m     21\u001b[0m     \u001b[38;5;28;01mif\u001b[39;00m turtle\u001b[38;5;241m.\u001b[39mxcor() \u001b[38;5;241m>\u001b[39m \u001b[38;5;241m250\u001b[39m:\n",
      "\u001b[1;31mTypeError\u001b[0m: 'Turtle' object is not iterable"
     ]
    }
   ],
   "source": [
    "import turtle as t\n",
    "import random\n",
    "screen = t.Screen()\n",
    "screen.setup(height=500, width=600)\n",
    "guess = screen.textinput(prompt=\"Dự đoán con rùa nào chiến thắng?\", title=\"Nhập vào màu rùa (đỏ, nâu, xanh dương, xanh lá cây, cam, hồng)\")\n",
    "colors = [\"red\", \"brown\", \"blue\", \"green\", \"orange\", \"pink\"]\n",
    "y_position = [0, -30, 30, -60, 60, 90]\n",
    "turtle_speed = [10, 15, 20, 25, 30, 5]\n",
    "all_turtles = []\n",
    "run = True\n",
    "for turtle in range(0, 6):\n",
    "    turtles = t.Turtle(shape=\"turtle\")\n",
    "    turtles.penup()\n",
    "    turtles.goto(x=-250, y=y_position[turtle])\n",
    "    turtles.color(colors[turtle])\n",
    "    # Lưu vào list\n",
    "    all_turtles.append(turtles)\n",
    "    global run\n",
    "    for turtle in turtles:\n",
    "        turtle.forward(random.choice(turtle_speed))\n",
    "        if turtle.xcor() > 250:\n",
    "            run = False\n",
    "while run:\n",
    "    random_walk(all_turtles)\n"
   ]
  }
 ],
 "metadata": {
  "kernelspec": {
   "display_name": "Python 3 (ipykernel)",
   "language": "python",
   "name": "python3"
  },
  "language_info": {
   "codemirror_mode": {
    "name": "ipython",
    "version": 3
   },
   "file_extension": ".py",
   "mimetype": "text/x-python",
   "name": "python",
   "nbconvert_exporter": "python",
   "pygments_lexer": "ipython3",
   "version": "3.11.4"
  }
 },
 "nbformat": 4,
 "nbformat_minor": 5
}
