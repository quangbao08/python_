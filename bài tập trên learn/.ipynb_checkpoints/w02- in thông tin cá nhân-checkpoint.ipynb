{
 "cells": [
  {
   "cell_type": "code",
   "execution_count": 1,
   "id": "4ec065bf-dc15-4b32-970c-a921b6d9f5f6",
   "metadata": {},
   "outputs": [
    {
     "name": "stdout",
     "output_type": "stream",
     "text": [
      "Bui Quang Bao, 08/11/1997, Bao Loc, hoc them ngon ngu lap trinh\n"
     ]
    }
   ],
   "source": [
    "print(\"Bui Quang Bao, 08/11/1997, Bao Loc, hoc them ngon ngu lap trinh\")"
   ]
  }
 ],
 "metadata": {
  "kernelspec": {
   "display_name": "Python 3 (ipykernel)",
   "language": "python",
   "name": "python3"
  },
  "language_info": {
   "codemirror_mode": {
    "name": "ipython",
    "version": 3
   },
   "file_extension": ".py",
   "mimetype": "text/x-python",
   "name": "python",
   "nbconvert_exporter": "python",
   "pygments_lexer": "ipython3",
   "version": "3.11.4"
  }
 },
 "nbformat": 4,
 "nbformat_minor": 5
}
