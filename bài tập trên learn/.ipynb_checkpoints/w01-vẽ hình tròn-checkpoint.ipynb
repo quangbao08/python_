{
 "cells": [
  {
   "cell_type": "code",
   "execution_count": 1,
   "id": "2587f35f-bf4c-4b2c-af31-39241c54d34d",
   "metadata": {},
   "outputs": [],
   "source": [
    "import turtle\n",
    "turtle.pensize (5)\n",
    "turtle.pencolor (\"red\")\n",
    "turtle.Turtle().goto(-40, 120)\n",
    "turtle.fillcolor (\"red\")\n",
    "turtle.begin_fill()\n",
    "turtle.circle (150)\n",
    "turtle.end_fill()"
   ]
  }
 ],
 "metadata": {
  "kernelspec": {
   "display_name": "Python 3 (ipykernel)",
   "language": "python",
   "name": "python3"
  },
  "language_info": {
   "codemirror_mode": {
    "name": "ipython",
    "version": 3
   },
   "file_extension": ".py",
   "mimetype": "text/x-python",
   "name": "python",
   "nbconvert_exporter": "python",
   "pygments_lexer": "ipython3",
   "version": "3.11.4"
  }
 },
 "nbformat": 4,
 "nbformat_minor": 5
}
