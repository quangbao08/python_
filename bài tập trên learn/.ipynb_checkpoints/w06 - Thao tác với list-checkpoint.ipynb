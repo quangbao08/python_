{
 "cells": [
  {
   "cell_type": "code",
   "execution_count": 4,
   "id": "f0096b50-3272-459a-a61f-3e7dfc6d93d4",
   "metadata": {},
   "outputs": [
    {
     "name": "stdout",
     "output_type": "stream",
     "text": [
      "List chứa chuỗi =  ['Mobile', 'Laptop', 'Camera', 'Speakers', 'Television', 'Laptop Case', 'Camera Lens']\n",
      "List chứa số =  [100, 310.28, 27.0, 1000]\n",
      "List chứa chuỗi theo thứ tự tăng dần=  ['Camera', 'Camera Lens', 'Laptop', 'Laptop Case', 'Mobile', 'Speakers', 'Television']\n",
      "List chứa chuỗi theo thứ tự giảm dần=  ['Television', 'Speakers', 'Mobile', 'Laptop Case', 'Laptop', 'Camera Lens', 'Camera']\n",
      "List chứa số theo thứ tự tăng dần=  [27.0, 100, 310.28, 1000]\n",
      "List chứa số theo thứ tự giảm dần=  [1000, 310.28, 100, 27.0]\n"
     ]
    }
   ],
   "source": [
    "gadgets = [\"Mobile\", \"Laptop\", 100, \"Camera\", 310.28, \"Speakers\", 27.00,\n",
    "           \"Television\", 1000, \"Laptop Case\", \"Camera Lens\"]\n",
    "text = []\n",
    "numbers = []\n",
    "for i in gadgets:\n",
    "    if isinstance(i, str):\n",
    "        text.append(i)\n",
    "    else:\n",
    "        numbers.append(i)\n",
    "print(\"List chứa chuỗi = \", text)\n",
    "print(\"List chứa số = \", numbers)\n",
    "text.sort()\n",
    "print(\"List chứa chuỗi theo thứ tự tăng dần= \", text)\n",
    "text.sort(reverse=True)\n",
    "print(\"List chứa chuỗi theo thứ tự giảm dần= \", text)\n",
    "numbers.sort()\n",
    "print(\"List chứa số theo thứ tự tăng dần= \", numbers)\n",
    "numbers.sort(reverse=True)\n",
    "print(\"List chứa số theo thứ tự giảm dần= \", numbers)"
   ]
  }
 ],
 "metadata": {
  "kernelspec": {
   "display_name": "Python 3 (ipykernel)",
   "language": "python",
   "name": "python3"
  },
  "language_info": {
   "codemirror_mode": {
    "name": "ipython",
    "version": 3
   },
   "file_extension": ".py",
   "mimetype": "text/x-python",
   "name": "python",
   "nbconvert_exporter": "python",
   "pygments_lexer": "ipython3",
   "version": "3.11.4"
  }
 },
 "nbformat": 4,
 "nbformat_minor": 5
}
