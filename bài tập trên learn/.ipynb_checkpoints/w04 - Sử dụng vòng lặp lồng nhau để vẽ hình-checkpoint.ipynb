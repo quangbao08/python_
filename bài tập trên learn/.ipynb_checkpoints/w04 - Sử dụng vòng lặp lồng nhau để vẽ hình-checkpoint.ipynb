{
 "cells": [
  {
   "cell_type": "code",
   "execution_count": null,
   "id": "d12633dd-20f4-4c33-81dd-f95b314c9e2b",
   "metadata": {},
   "outputs": [],
   "source": [
    "import turtle\n",
    "\n",
    "wn = turtle.Screen()\n",
    "wn.bgcolor(\"black\")\n",
    "wn.title(\"Star\")\n",
    "\n",
    "myPen = turtle.Turtle()\n",
    "myPen.speed(0)\n",
    "myPen.color(\"#FF0000\")\n",
    "\n",
    "for j in range (1,100):\n",
    "    for i in range (1,6):\n",
    "        myPen.left(144)\n",
    "        myPen.forward(200)\n",
    "    myPen.left(5)\n",
    "\n",
    "turtle.done()"
   ]
  }
 ],
 "metadata": {
  "kernelspec": {
   "display_name": "Python 3 (ipykernel)",
   "language": "python",
   "name": "python3"
  },
  "language_info": {
   "codemirror_mode": {
    "name": "ipython",
    "version": 3
   },
   "file_extension": ".py",
   "mimetype": "text/x-python",
   "name": "python",
   "nbconvert_exporter": "python",
   "pygments_lexer": "ipython3",
   "version": "3.11.4"
  }
 },
 "nbformat": 4,
 "nbformat_minor": 5
}
