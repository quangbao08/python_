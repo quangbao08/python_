{
 "cells": [
  {
   "cell_type": "code",
   "execution_count": 3,
   "id": "cc985ac1-3d8f-47bf-8813-dc0f1afaac65",
   "metadata": {},
   "outputs": [],
   "source": [
    "import turtle\n",
    "import random as r\n",
    "t = turtle.Turtle()\n",
    "t.shape(\"turtle\")\n",
    "t.hideturtle()\n",
    "t.pensize(3)\n",
    "t.color(\"blue\")\n",
    "t.speed(1)\n",
    "t.penup()\n",
    "t.goto(-400, 0)\n",
    "t.showturtle()\n",
    "count = 0\n",
    "while count < 10:\n",
    "    down = r.randint(20, 50)\n",
    "    up = r.randint(20, 50)\n",
    "    t.pendown()\n",
    "    t.forward(down)\n",
    "    t.penup()\n",
    "    t.forward(up)\n",
    "    count += 1\n",
    "turtle.done()"
   ]
  }
 ],
 "metadata": {
  "kernelspec": {
   "display_name": "Python 3 (ipykernel)",
   "language": "python",
   "name": "python3"
  },
  "language_info": {
   "codemirror_mode": {
    "name": "ipython",
    "version": 3
   },
   "file_extension": ".py",
   "mimetype": "text/x-python",
   "name": "python",
   "nbconvert_exporter": "python",
   "pygments_lexer": "ipython3",
   "version": "3.11.4"
  }
 },
 "nbformat": 4,
 "nbformat_minor": 5
}
