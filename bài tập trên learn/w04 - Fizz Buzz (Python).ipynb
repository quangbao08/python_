{
 "cells": [
  {
   "cell_type": "code",
   "execution_count": 1,
   "id": "541cbb63-5221-454b-b710-4d4e6e91dac8",
   "metadata": {},
   "outputs": [
    {
     "name": "stdin",
     "output_type": "stream",
     "text": [
      "Nhập vào số khởi đầu:  2\n",
      "Nhập vào số kết thúc:  30\n"
     ]
    },
    {
     "name": "stdout",
     "output_type": "stream",
     "text": [
      "2\n",
      "Fizz\n",
      "4\n",
      "Buzz\n",
      "Fizz\n",
      "7\n",
      "8\n",
      "Fizz\n",
      "Buzz\n",
      "11\n",
      "Fizz\n",
      "13\n",
      "14\n",
      "FizzBuzz\n",
      "16\n",
      "17\n",
      "Fizz\n",
      "19\n",
      "Buzz\n",
      "Fizz\n",
      "22\n",
      "23\n",
      "Fizz\n",
      "Buzz\n",
      "26\n",
      "Fizz\n",
      "28\n",
      "29\n",
      "FizzBuzz\n"
     ]
    }
   ],
   "source": [
    "num_start = int(input(\"Nhập vào số khởi đầu: \"))\n",
    "num_end = int(input(\"Nhập vào số kết thúc: \"))\n",
    "\n",
    "if num_start > num_end:\n",
    "    print(f'Số kết thúc cần lớn hơn số khởi đầu.')\n",
    "\n",
    "else:\n",
    "    for i in range (num_start, num_end + 1):\n",
    "        if (i % 5 == 0 and i % 3 == 0):\n",
    "            print(f'FizzBuzz')\n",
    "        elif i % 3 == 0:\n",
    "            print(f'Fizz')\n",
    "        elif i % 5 == 0:\n",
    "            print(f'Buzz')\n",
    "        else:\n",
    "            print(i)"
   ]
  }
 ],
 "metadata": {
  "kernelspec": {
   "display_name": "Python 3 (ipykernel)",
   "language": "python",
   "name": "python3"
  },
  "language_info": {
   "codemirror_mode": {
    "name": "ipython",
    "version": 3
   },
   "file_extension": ".py",
   "mimetype": "text/x-python",
   "name": "python",
   "nbconvert_exporter": "python",
   "pygments_lexer": "ipython3",
   "version": "3.11.4"
  }
 },
 "nbformat": 4,
 "nbformat_minor": 5
}
