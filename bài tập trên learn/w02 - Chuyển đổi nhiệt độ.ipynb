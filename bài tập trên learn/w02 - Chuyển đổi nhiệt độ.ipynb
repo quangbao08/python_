{
 "cells": [
  {
   "cell_type": "code",
   "execution_count": 1,
   "id": "13c3f630-496f-4652-8c69-d0a40838b975",
   "metadata": {},
   "outputs": [
    {
     "name": "stdin",
     "output_type": "stream",
     "text": [
      "Enter Celsius:  14\n"
     ]
    },
    {
     "name": "stdout",
     "output_type": "stream",
     "text": [
      "57.2F\n"
     ]
    }
   ],
   "source": [
    "Celsius = float(input('Enter Celsius: '))\n",
    "Fahrenheit = (Celsius*1.8)+32\n",
    "print(f\"{Fahrenheit}F\")"
   ]
  }
 ],
 "metadata": {
  "kernelspec": {
   "display_name": "Python 3 (ipykernel)",
   "language": "python",
   "name": "python3"
  },
  "language_info": {
   "codemirror_mode": {
    "name": "ipython",
    "version": 3
   },
   "file_extension": ".py",
   "mimetype": "text/x-python",
   "name": "python",
   "nbconvert_exporter": "python",
   "pygments_lexer": "ipython3",
   "version": "3.11.4"
  }
 },
 "nbformat": 4,
 "nbformat_minor": 5
}
