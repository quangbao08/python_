{
 "cells": [
  {
   "cell_type": "markdown",
   "id": "2476d343-9b0b-44cb-937c-31075b4e4d46",
   "metadata": {},
   "source": [
    "Luyện tập:\r\n",
    "\r\n",
    "Cách thao tác với đối tượng Dictionary, \r\n",
    "Viết và sử dụng các hàm trong lập trình, \r\n",
    "Sử dụng hàm if…elif…else\r\n",
    "Sử dụng vòng lặp for…in\r\n",
    "Mô tả\r\n",
    "\r\n",
    "Viết chương trình cho phép người dùng tra cứu các từ tiếng Anh sang tiếng Việt bằng cách nhập từ cần tra cứu. Danh sách các từ được lưu trữ sẵn trong một Dictionary.\r\n",
    "\r\n",
    "Hướng dẫn\r\n",
    "\r\n",
    "Bước 1: Khai báo hàm tìm và in ra từ sau khi được dịch\r\n",
    "\r\n",
    "Hàm nhận hai tham số truyền vào là data từ điển và từ cần dịch\r\n",
    "Sử dụng for…in để lặp qua data từ điển, giá trị lặp sẽ là các từ\r\n",
    "Trong vòng lặp, sử dụng hàm if để kiểm tra từ lặp có giá trị bằng từ cần dịch hay không:\r\n",
    "Nếu đúng thì in ra giá trị của từ lặp\r\n",
    "Bước 2: Khai báo biến input_word, mang giá trị là từ cần dịch mà người dùng nhập vào\r\n",
    "\r\n",
    "Sử dụng hàm input() để lấy giá trị mà người dùng nhập vào, sau đó gán giá trị cho biến input_word\r\n",
    "Bước 3: Gọi hàm tìm từ cần dịch\r\n",
    "\r\n",
    "Gọi hàm tìm từ cần dịch, truyền data từ điển và từ cần dịch vào làm tham số, gán giá trị trả về cho biến translated_word\r\n",
    "Bước 4: In ra kết quả\r\n",
    "\r\n",
    "Sử dụng hàm if…else để kiểm tra biến translated_word có giá trị hay không:\r\n",
    "Nếu có thì in ra giá trị translated_word\r\n",
    "Nếu không thì in ra thông báo từ vừa nhập không có trong từ điển"
   ]
  },
  {
   "cell_type": "code",
   "execution_count": 4,
   "id": "b9bafcd5-e96b-453b-a3da-e820e8379f51",
   "metadata": {},
   "outputs": [
    {
     "name": "stdin",
     "output_type": "stream",
     "text": [
      "Nhập từ cần tra từ điển:  hello\n"
     ]
    },
    {
     "name": "stdout",
     "output_type": "stream",
     "text": [
      "Nghĩa của từ hello là xin chào\n",
      "Từ vừa nhập không có trong từ điển\n",
      "Từ vừa nhập không có trong từ điển\n",
      "Từ vừa nhập không có trong từ điển\n"
     ]
    }
   ],
   "source": [
    "data_dict = {\"hello\":\"xin chào\", \"find\":\"tìm\", \"learn\":\"học tập\", \"morning\":\"buổi sáng\"}\n",
    "\n",
    "def search_word(data_dict, word):\n",
    "    for word_dict in data_dict:\n",
    "        if word == word_dict:\n",
    "            translated_word = data_dict[word_dict]\n",
    "            print(f\"Nghĩa của từ {word} là {translated_word}\")\n",
    "        \n",
    "        else:\n",
    "            print(f\"Từ vừa nhập không có trong từ điển\")\n",
    "            \n",
    "input_word = str(input(\"Nhập từ cần tra từ điển: \"))\n",
    "\n",
    "search_word(data_dict, input_word)\n"
   ]
  }
 ],
 "metadata": {
  "kernelspec": {
   "display_name": "Python 3 (ipykernel)",
   "language": "python",
   "name": "python3"
  },
  "language_info": {
   "codemirror_mode": {
    "name": "ipython",
    "version": 3
   },
   "file_extension": ".py",
   "mimetype": "text/x-python",
   "name": "python",
   "nbconvert_exporter": "python",
   "pygments_lexer": "ipython3",
   "version": "3.11.4"
  }
 },
 "nbformat": 4,
 "nbformat_minor": 5
}
