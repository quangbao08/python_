{
 "cells": [
  {
   "cell_type": "code",
   "execution_count": 5,
   "id": "65a0eb39-dabc-42e3-9294-845b9f802358",
   "metadata": {},
   "outputs": [
    {
     "name": "stdin",
     "output_type": "stream",
     "text": [
      "Nhập số USD cần đổi:  1\n",
      "Nhập tỉ giá USD/VND - 1USD =  23000\n"
     ]
    },
    {
     "name": "stdout",
     "output_type": "stream",
     "text": [
      "23000.0VND\n"
     ]
    }
   ],
   "source": [
    "usd = float(input(\"Nhập số USD cần đổi: \"))\n",
    "rate = float(input(\"Nhập tỉ giá USD/VND - 1USD = \"))\n",
    "print(f\"{usd*rate}VND\")"
   ]
  }
 ],
 "metadata": {
  "kernelspec": {
   "display_name": "Python 3 (ipykernel)",
   "language": "python",
   "name": "python3"
  },
  "language_info": {
   "codemirror_mode": {
    "name": "ipython",
    "version": 3
   },
   "file_extension": ".py",
   "mimetype": "text/x-python",
   "name": "python",
   "nbconvert_exporter": "python",
   "pygments_lexer": "ipython3",
   "version": "3.11.4"
  }
 },
 "nbformat": 4,
 "nbformat_minor": 5
}
