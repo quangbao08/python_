{
 "cells": [
  {
   "cell_type": "markdown",
   "id": "6aae6363-d1f1-448f-a678-f5f69a83adaa",
   "metadata": {},
   "source": [
    "Xây dựng ứng dụng quản lý sinh viên với các chức năng cơ bản sau:\r\n",
    "Xem danh mục sinh viên\r\n",
    "Thêm sinh viên mới vào danh mục\r\n",
    "Cập nhật thông tin của sinh viên trong danh mục\r\n",
    "Xóa thông tin sinh viên khỏi danh mục\r\n",
    "Tìm kiếm thông tin sinh viên trong danh mục theo từ khóa\r\n",
    "Sắp xếp thông tin sinh viên trong danh mục"
   ]
  },
  {
   "cell_type": "code",
   "execution_count": null,
   "id": "27e320b0-e153-435f-a1e2-bcc55ce26f17",
   "metadata": {},
   "outputs": [],
   "source": [
    "class Student:\n",
    "    Xây dựng lớp Student với các thuộc tính như mã sinh viên, họ tên, ngày tháng năm sinh, quê quán, chuyên ngành, lớp\n",
    "    …Chức năng chính của lớp này là lưu giữ thông tin của 1 sinh viên\n",
    "\n",
    "    def __init__(self, msv, name, birth, address, major, lop):\n",
    "        self.msv = msv\n",
    "        self.name = name\n",
    "        self.birth = birth\n",
    "        self.address = address\n",
    "        self.major = major\n",
    "        self.lop = lop\n",
    "\n",
    "    "
   ]
  }
 ],
 "metadata": {
  "kernelspec": {
   "display_name": "Python 3 (ipykernel)",
   "language": "python",
   "name": "python3"
  },
  "language_info": {
   "codemirror_mode": {
    "name": "ipython",
    "version": 3
   },
   "file_extension": ".py",
   "mimetype": "text/x-python",
   "name": "python",
   "nbconvert_exporter": "python",
   "pygments_lexer": "ipython3",
   "version": "3.11.4"
  }
 },
 "nbformat": 4,
 "nbformat_minor": 5
}
