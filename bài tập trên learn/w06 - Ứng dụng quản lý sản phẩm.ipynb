{
 "cells": [
  {
   "cell_type": "markdown",
   "id": "b4103b8c-d553-42ce-b063-28f4e65676de",
   "metadata": {},
   "source": [
    "Bước 1:  Khai báo hàm lấy thông tin sản phẩm bằng id sản phẩm\n",
    "\n",
    "Hàm này sẽ nhận hai tham số truyền vào là danh sách sản phẩm và id sản phẩm cần tìm\n",
    "Sử dụng if…in để kiểm tra id sản phẩm có trong danh sách sản phẩm hay không, nếu có thì trả về thông tin của sản phẩm làm kết quả của hàm"
   ]
  },
  {
   "cell_type": "code",
   "execution_count": null,
   "id": "98ee27aa-56f1-4d9e-a943-7bc9c9d0a80e",
   "metadata": {},
   "outputs": [],
   "source": [
    "def check_info(id_product, list_product):\n",
    "    for i in list_product.keys:\n",
    "        if i == id_product:\n",
    "            print(f\"Thông tin của sản phẩm {id_product} là: {list_product[id_product]}\")\n",
    "        else:\n",
    "            print(\"Không tồn tại sản phẩm.\")\n",
    "\n",
    "\n",
    "        "
   ]
  },
  {
   "cell_type": "markdown",
   "id": "bfc36f7d-2e84-4ca1-a284-85297cb83797",
   "metadata": {},
   "source": [
    "Bước 2: Khai báo hàm cập nhật danh sách sản phẩm\r\n",
    "\r\n",
    "Hàm sẽ nhận ba tham số truyền vào là danh sách sản phẩm, id sản phẩm cần cập nhật và tên mới của sản phẩm.\r\n",
    "Sử dụng prods_db[prod_id] để lấy ra thông tin của sản phẩm, sau đó gán giá trị tên mới cho biến này. Nếu không có key trùng với prod_id thì hàm này sẽ tạo key-value tương ứng cho data danh sách sản phẩm"
   ]
  },
  {
   "cell_type": "code",
   "execution_count": null,
   "id": "e52b36f9-39be-45f4-a853-cee86671dccd",
   "metadata": {},
   "outputs": [],
   "source": [
    "def update_product (list_product, id_update_product, new_product):\n",
    "    info_product = list_product[id_product]\n",
    "    for x in list_product.keys():\n",
    "        if x != id_update_product:\n",
    "            list_product[id_update_product] = new_product\n",
    "            print(list_product)\n",
    "        else:\n",
    "            print(f\"Đã tồn tại sản phẩm này.\")\n",
    "            print(list_product)\n",
    "            "
   ]
  },
  {
   "cell_type": "markdown",
   "id": "dbe05252-c7ab-48ed-8a24-b290b8d3c66b",
   "metadata": {},
   "source": [
    "Bước 3: Sử dụng print() để in ra danh sách sản phẩm hiện tại\r",
    "print() để in ra danh sách sản phẩm"
   ]
  },
  {
   "cell_type": "markdown",
   "id": "4d3a0f08-f6ca-442e-b03f-66c7e8c031ff",
   "metadata": {},
   "source": [
    "Bước 4: Khởi tạo vòng lặp\r\n",
    "\r\n",
    "Sử dụng while true: để khởi tạo vòng lặp, vòng lặp này sẽ được kết thúc khi người dùng chọn option “exit”\r\n",
    "Những bước tiếp theo bên dưới sẽ được viết và thực hiện bên trong vòng lặp"
   ]
  },
  {
   "cell_type": "code",
   "execution_count": null,
   "id": "63eba52f-e2bc-4dd4-b710-04330ba7a1d7",
   "metadata": {},
   "outputs": [],
   "source": [
    "while True:\n",
    "    print(\"Vui lòng chọn chức năng\")\n",
    "    print(\"\"\" 1. Thêm sản phẩm mới.\\n\n",
    "    2. Cập nhật sản phầm mới.\\n\n",
    "    3. Xoá sản phẩm.\\n\n",
    "    4. Exit\n",
    "    \"\"\")\n",
    "    luachon = int(input(\"Nhập vào lựa chọn của bạn: \"))\n",
    "    if luachon == 1:\n",
    "        ...\n",
    "\n",
    "    else luachon 5...\n",
    "        \n",
    "    "
   ]
  },
  {
   "cell_type": "markdown",
   "id": "49c3083c-3d18-41ff-a4c4-7b76406a42ea",
   "metadata": {},
   "source": [
    "ặp\r\n",
    "Bước 5: In ra màn hình các lựa chọn mà người dùng có thể chọn để thực hiện\r\n",
    "\r\n",
    "Sử dụng print() để thực hiện việc in thông báo ra màn hình\r\n",
    "Bước 6: Khai báo biến option, mang giá trị phương thức quản lý mà người dùng muốn thực hiện\r\n",
    "\r\n",
    "Sử dụng input() để lấy giá trị người dùng nhập vào, dùng int() để chuyển giá trị về kiểu int, sau đó gán giá trị cho biế\n",
    "n option\r\n",
    "Bước 7: Dùng if…elif…else để kiểm tra giá trị của biến option và thực hiện các hàm theo đúng giá trị đó\r\n",
    "\r\n",
    "Trường hợp 1: option == 1: Thêm sản phẩm mới\r\n",
    "Sử dụng hàm input() để người dùng nhập id sản phẩm cần tìm, sử dụng int() để chuyển giá trị về kiểu int và sau đó gán giá trị này cho biến product_id\r\n",
    "Gọi hàm lấy thông tin sản phẩm trong danh sách sản phẩm, sử dụng if…else để kiểm tra giá trị trả về:\r\n",
    "Nếu có giá trị trả về thì thông báo cho người đã có sản phẩm tồn tại với id vừa nhập\r\n",
    "Nếu không thì sử dụng input() để người dùng nhập tên sản phẩm và gán giá trị cho biến product_name,  sau đó tiến hành gọi hàm cập nhật danh sách sản phẩm\r\n",
    "Trường hợp 2: option == 2: Cập nhật sản phẩm \r\n",
    "Sử dụng hàm input() để người dùng nhập id sản phẩm cần tìm, sử dụng int() để chuyển giá trị về kiểu int và sau đó gán giá trị này cho biến product_id\r\n",
    "Gọi hàm lấy thông tin sản phẩm trong danh sách sản phẩm, sử dụng if…else để kiểm tra giá trị trả về:\r\n",
    "Nếu có giá trị trả về thì sử dụng input() để người dùng nhập tên sản phẩm và gán giá trị cho biến product_name, sau đó tiến hành hàm gọi cập nhật danh sách sản phẩm\r\n",
    "Nếu không thì thông báo sản phẩm với id vừa nhập không tồn tại\r\n",
    "Trường hợp 3: option == 3: Xoá sản phẩm\r\n",
    "Sử dụng hàm input() để người dùng nhập id sản phẩm cần tìm, sử dụng int() để chuyển giá trị về kiểu int và sau đó gán giá trị này cho biến product_id\r\n",
    "Gọi hàm lấy thông tin sản phẩm trong danh sách sản phẩm, sử dụng if…else để kiểm tra giá trị trả về:\r\n",
    "Nếu có giá trị trả về thì sử dụng lệnh del để xoá sản phẩm với id vừa nhập, sau đó in ra thông báo xoá sản phẩm thành công\r\n",
    "Nếu không thì thông báo sản phẩm với id vừa nhập không tồn tại\r\n",
    "Trường hợp 4: option == 4: Thoát khỏi ứng dụng (kết thúc vòng lặp)\r\n",
    "Sử dụng lệnh break để kết thúc vòng lặp while\r\n",
    "Trường hợp 5: option khác\r\n",
    "Sử dụng print() để thông báo cho người dùng đầu vào không hợp lệ\r\n",
    "Bước 8: In ra danh sách sản phẩm sau khi quản lý\r\n",
    "\r\n",
    "Sử dụng print() để in ra danh sách sản phẩm"
   ]
  },
  {
   "cell_type": "code",
   "execution_count": null,
   "id": "ec96fb24-5f20-4164-8c19-186edd1a01d2",
   "metadata": {},
   "outputs": [],
   "source": [
    "if luachon == 1:\n",
    "    print(f\"Thêm sản phẩm mới\")\n",
    "    id_product = int(input(f\"Nhập vào id của sản phầm cần tìm: \"))\n",
    "    check_info(id_product, list_product)\n",
    "\n",
    "elif luachon == 2:\n",
    "    print(f\"Cập nhật sản phẩm\")\n",
    "    product_id = int(input(f\"Nhập vào id của sản phầm cần cập nhật: \"))\n",
    "    new_product = (input(f\"Nhập vào tên của sản phầm cần cập nhật: \"))\n",
    "    update_product (list_product, product_id, new_product)\n",
    "    \n",
    "elif luachon == 3:\n",
    "    print(f\"Xoá sản phẩm\")\n",
    "    product_id = int(input(f\"Nhập vào id của sản phầm cần xoá: \"))\n",
    "    \n",
    "elif luachon == 4:\n",
    "    break\n",
    "    \n",
    "else:\n",
    "    print(f\"Lựa chọn không hợp lệ!\")\n",
    "\n",
    "\n",
    "print(\"Danh sách sản phẩm: \")\n",
    "for product in list_product.values():\n",
    "    print(product)"
   ]
  }
 ],
 "metadata": {
  "kernelspec": {
   "display_name": "Python 3 (ipykernel)",
   "language": "python",
   "name": "python3"
  },
  "language_info": {
   "codemirror_mode": {
    "name": "ipython",
    "version": 3
   },
   "file_extension": ".py",
   "mimetype": "text/x-python",
   "name": "python",
   "nbconvert_exporter": "python",
   "pygments_lexer": "ipython3",
   "version": "3.11.4"
  }
 },
 "nbformat": 4,
 "nbformat_minor": 5
}
