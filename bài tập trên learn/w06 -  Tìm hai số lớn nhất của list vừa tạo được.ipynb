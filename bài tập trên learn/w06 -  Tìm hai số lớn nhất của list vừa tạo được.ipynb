{
 "cells": [
  {
   "cell_type": "markdown",
   "id": "57126a21-1901-41dc-92c3-9e91ddd42390",
   "metadata": {},
   "source": [
    "# \n",
    "Luyện tập cách thức làm việc với list\r\n",
    "\r\n",
    "Mô tả\r\n",
    "Khởi  tạo một list chứa các số cho trước. Tìm hai số lớn nhất của list vừa tạo được\r\n",
    "\r\n",
    "Hướng dẫn\r\n",
    "Có nhiều cách để giải quyết bài toán trên:\r\n",
    "\r\n",
    "C1: Sắp xếp list theo thứ tự tăng dần, sau đó lấy các phần tử có chỉ số -1 và -2\r\n",
    "\r\n",
    "C2: Sắp xếp list theo thứ tự giảm dần, sau đó lấy các phần tử có chỉ số 0 và 1\r\n",
    "\r\n",
    "Lưu ý: Các trường hợp list có ít hơn 2 phần tử…"
   ]
  },
  {
   "cell_type": "code",
   "execution_count": 3,
   "id": "d4da6586-8056-49b5-8f8b-a502d42122e7",
   "metadata": {},
   "outputs": [
    {
     "name": "stdout",
     "output_type": "stream",
     "text": [
      "[20, 56, 789, 7890, 65245]\n"
     ]
    }
   ],
   "source": [
    "list = [56, 7890, 65245, 20, 789]\n",
    "\n",
    "list.sort()\n",
    "\n",
    "print(list)\n"
   ]
  },
  {
   "cell_type": "code",
   "execution_count": 7,
   "id": "69166cd4-fa0c-4a78-853a-c62deb0e70dc",
   "metadata": {},
   "outputs": [
    {
     "name": "stdout",
     "output_type": "stream",
     "text": [
      "[7890, 65245]\n"
     ]
    }
   ],
   "source": [
    "list = [56, 7890, 65245, 20, 789]\n",
    "\n",
    "list.sort()\n",
    "\n",
    "print(list[-2:])"
   ]
  }
 ],
 "metadata": {
  "kernelspec": {
   "display_name": "Python 3 (ipykernel)",
   "language": "python",
   "name": "python3"
  },
  "language_info": {
   "codemirror_mode": {
    "name": "ipython",
    "version": 3
   },
   "file_extension": ".py",
   "mimetype": "text/x-python",
   "name": "python",
   "nbconvert_exporter": "python",
   "pygments_lexer": "ipython3",
   "version": "3.11.4"
  }
 },
 "nbformat": 4,
 "nbformat_minor": 5
}
