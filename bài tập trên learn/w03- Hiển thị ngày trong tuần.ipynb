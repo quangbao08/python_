{
 "cells": [
  {
   "cell_type": "code",
   "execution_count": 2,
   "id": "12d0eaa1-ae85-4187-8ec8-309554e4e739",
   "metadata": {},
   "outputs": [
    {
     "name": "stdin",
     "output_type": "stream",
     "text": [
      " 1\n"
     ]
    },
    {
     "name": "stdout",
     "output_type": "stream",
     "text": [
      "Monday\n"
     ]
    }
   ],
   "source": [
    "a = input()\n",
    "a = int(a)\n",
    "\n",
    "if a == 1:\n",
    "    print('Monday')\n",
    "\n",
    "elif a == 2:\n",
    "    print('Tuesday')\n",
    "\n",
    "elif a == 3:\n",
    "    print('Wednesday')\n",
    "\n",
    "elif a == 4:\n",
    "    print('Thursday')\n",
    "\n",
    "elif a == 5:\n",
    "    print('Friday')\n",
    "\n",
    "elif a == 6:\n",
    "    print('Saturday')\n",
    "\n",
    "elif a == 7:\n",
    "    print('Sunday')\n",
    "\n",
    "else:\n",
    "    print('error, out of range')\n"
   ]
  }
 ],
 "metadata": {
  "kernelspec": {
   "display_name": "Python 3 (ipykernel)",
   "language": "python",
   "name": "python3"
  },
  "language_info": {
   "codemirror_mode": {
    "name": "ipython",
    "version": 3
   },
   "file_extension": ".py",
   "mimetype": "text/x-python",
   "name": "python",
   "nbconvert_exporter": "python",
   "pygments_lexer": "ipython3",
   "version": "3.11.4"
  }
 },
 "nbformat": 4,
 "nbformat_minor": 5
}
