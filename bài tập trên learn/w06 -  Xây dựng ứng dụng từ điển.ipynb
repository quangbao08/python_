{
 "cells": [
  {
   "cell_type": "code",
   "execution_count": 3,
   "id": "465ccd62-c160-4cba-a78b-d25b444f97f1",
   "metadata": {},
   "outputs": [
    {
     "name": "stdout",
     "output_type": "stream",
     "text": [
      "Vui lòng lựa chọn chức năng (bằng số): \n",
      " 1. Thêm từ vựng mới (kèm theo nghĩa của từ vựng) vào từ điển.\n",
      "\n",
      "    2. Tra cứu ý ngĩa của 1 từ vựng.\n",
      "\n",
      "    3. Cập nhật ý ngĩa của 1 từ vựng.\n",
      "\n",
      "    4. Cho phép người dùng xoá đi 1 từ vựng trong từ điển.\n",
      "\n",
      "    5. Cho phép người dùng xoá toàn bộ từ điển.\n",
      "\n",
      "    6. Cho phép người dùng in ra toàn bộ từ vựng.\n",
      "\n",
      "    7. Cho phép người dùng in ra toàn bộ từ điển theo cấu trúc: 'từ vựng' : 'ý nghĩa'.\n",
      "\n",
      "    8. Kết thúc chương trình.\n"
     ]
    },
    {
     "name": "stdin",
     "output_type": "stream",
     "text": [
      "Nhập vào lựa chọn của bạn:  1\n",
      "Nhập vào từ vựng:  hello\n",
      "Nhập vào ý ngĩa của từ vựng:  xin chào\n"
     ]
    },
    {
     "name": "stdout",
     "output_type": "stream",
     "text": [
      "Đã thêm từ vựng hoặc cập nhật từ vựng.\n",
      "Vui lòng lựa chọn chức năng (bằng số): \n",
      " 1. Thêm từ vựng mới (kèm theo nghĩa của từ vựng) vào từ điển.\n",
      "\n",
      "    2. Tra cứu ý ngĩa của 1 từ vựng.\n",
      "\n",
      "    3. Cập nhật ý ngĩa của 1 từ vựng.\n",
      "\n",
      "    4. Cho phép người dùng xoá đi 1 từ vựng trong từ điển.\n",
      "\n",
      "    5. Cho phép người dùng xoá toàn bộ từ điển.\n",
      "\n",
      "    6. Cho phép người dùng in ra toàn bộ từ vựng.\n",
      "\n",
      "    7. Cho phép người dùng in ra toàn bộ từ điển theo cấu trúc: 'từ vựng' : 'ý nghĩa'.\n",
      "\n",
      "    8. Kết thúc chương trình.\n"
     ]
    },
    {
     "name": "stdin",
     "output_type": "stream",
     "text": [
      "Nhập vào lựa chọn của bạn:  2\n",
      "Nhập vào từ vựng cần tra:  hello\n"
     ]
    },
    {
     "name": "stdout",
     "output_type": "stream",
     "text": [
      "Ý nghĩa của từ vựng là:  xin chào\n",
      "Đã tra cứu ý nghĩa.\n",
      "Vui lòng lựa chọn chức năng (bằng số): \n",
      " 1. Thêm từ vựng mới (kèm theo nghĩa của từ vựng) vào từ điển.\n",
      "\n",
      "    2. Tra cứu ý ngĩa của 1 từ vựng.\n",
      "\n",
      "    3. Cập nhật ý ngĩa của 1 từ vựng.\n",
      "\n",
      "    4. Cho phép người dùng xoá đi 1 từ vựng trong từ điển.\n",
      "\n",
      "    5. Cho phép người dùng xoá toàn bộ từ điển.\n",
      "\n",
      "    6. Cho phép người dùng in ra toàn bộ từ vựng.\n",
      "\n",
      "    7. Cho phép người dùng in ra toàn bộ từ điển theo cấu trúc: 'từ vựng' : 'ý nghĩa'.\n",
      "\n",
      "    8. Kết thúc chương trình.\n"
     ]
    },
    {
     "name": "stdin",
     "output_type": "stream",
     "text": [
      "Nhập vào lựa chọn của bạn:  2\n",
      "Nhập vào từ vựng cần tra:  hello\n"
     ]
    },
    {
     "name": "stdout",
     "output_type": "stream",
     "text": [
      "Ý nghĩa của từ vựng là:  xin chào\n",
      "Đã tra cứu ý nghĩa.\n",
      "Vui lòng lựa chọn chức năng (bằng số): \n",
      " 1. Thêm từ vựng mới (kèm theo nghĩa của từ vựng) vào từ điển.\n",
      "\n",
      "    2. Tra cứu ý ngĩa của 1 từ vựng.\n",
      "\n",
      "    3. Cập nhật ý ngĩa của 1 từ vựng.\n",
      "\n",
      "    4. Cho phép người dùng xoá đi 1 từ vựng trong từ điển.\n",
      "\n",
      "    5. Cho phép người dùng xoá toàn bộ từ điển.\n",
      "\n",
      "    6. Cho phép người dùng in ra toàn bộ từ vựng.\n",
      "\n",
      "    7. Cho phép người dùng in ra toàn bộ từ điển theo cấu trúc: 'từ vựng' : 'ý nghĩa'.\n",
      "\n",
      "    8. Kết thúc chương trình.\n"
     ]
    },
    {
     "name": "stdin",
     "output_type": "stream",
     "text": [
      "Nhập vào lựa chọn của bạn:  6\n"
     ]
    },
    {
     "name": "stdout",
     "output_type": "stream",
     "text": [
      "Danh sách từ vựng: \n",
      "hello\n",
      "Vui lòng lựa chọn chức năng (bằng số): \n",
      " 1. Thêm từ vựng mới (kèm theo nghĩa của từ vựng) vào từ điển.\n",
      "\n",
      "    2. Tra cứu ý ngĩa của 1 từ vựng.\n",
      "\n",
      "    3. Cập nhật ý ngĩa của 1 từ vựng.\n",
      "\n",
      "    4. Cho phép người dùng xoá đi 1 từ vựng trong từ điển.\n",
      "\n",
      "    5. Cho phép người dùng xoá toàn bộ từ điển.\n",
      "\n",
      "    6. Cho phép người dùng in ra toàn bộ từ vựng.\n",
      "\n",
      "    7. Cho phép người dùng in ra toàn bộ từ điển theo cấu trúc: 'từ vựng' : 'ý nghĩa'.\n",
      "\n",
      "    8. Kết thúc chương trình.\n"
     ]
    },
    {
     "name": "stdin",
     "output_type": "stream",
     "text": [
      "Nhập vào lựa chọn của bạn:  7\n"
     ]
    },
    {
     "name": "stdout",
     "output_type": "stream",
     "text": [
      "Danh sách từ vựng - ý nghĩa: \n",
      "hello - xin chào\n",
      "Vui lòng lựa chọn chức năng (bằng số): \n",
      " 1. Thêm từ vựng mới (kèm theo nghĩa của từ vựng) vào từ điển.\n",
      "\n",
      "    2. Tra cứu ý ngĩa của 1 từ vựng.\n",
      "\n",
      "    3. Cập nhật ý ngĩa của 1 từ vựng.\n",
      "\n",
      "    4. Cho phép người dùng xoá đi 1 từ vựng trong từ điển.\n",
      "\n",
      "    5. Cho phép người dùng xoá toàn bộ từ điển.\n",
      "\n",
      "    6. Cho phép người dùng in ra toàn bộ từ vựng.\n",
      "\n",
      "    7. Cho phép người dùng in ra toàn bộ từ điển theo cấu trúc: 'từ vựng' : 'ý nghĩa'.\n",
      "\n",
      "    8. Kết thúc chương trình.\n"
     ]
    },
    {
     "name": "stdin",
     "output_type": "stream",
     "text": [
      "Nhập vào lựa chọn của bạn:  8\n"
     ]
    }
   ],
   "source": [
    "tuDien = {}\n",
    "\n",
    "while True:\n",
    "    print(\"Vui lòng lựa chọn chức năng (bằng số): \")\n",
    "    print(\"\"\" 1. Thêm từ vựng mới (kèm theo nghĩa của từ vựng) vào từ điển.\\n\n",
    "    2. Tra cứu ý ngĩa của 1 từ vựng.\\n\n",
    "    3. Cập nhật ý ngĩa của 1 từ vựng.\\n\n",
    "    4. Cho phép người dùng xoá đi 1 từ vựng trong từ điển.\\n\n",
    "    5. Cho phép người dùng xoá toàn bộ từ điển.\\n\n",
    "    6. Cho phép người dùng in ra toàn bộ từ vựng.\\n\n",
    "    7. Cho phép người dùng in ra toàn bộ từ điển theo cấu trúc: 'từ vựng' : 'ý nghĩa'.\\n\n",
    "    8. Kết thúc chương trình.\"\"\"   \n",
    "    )\n",
    "    luachon = int(input(\"Nhập vào lựa chọn của bạn: \"))\n",
    "    if luachon == 1 or luachon == 3:\n",
    "        tuVung = input(\"Nhập vào từ vựng: \")\n",
    "        yNghia = input(\"Nhập vào ý ngĩa của từ vựng: \")\n",
    "        tuDien[tuVung] = yNghia\n",
    "        print(\"Đã thêm từ vựng hoặc cập nhật từ vựng.\")\n",
    "\n",
    "    elif luachon == 2:\n",
    "        tuVung = input(\"Nhập vào từ vựng cần tra: \")\n",
    "        \n",
    "        print(\"Ý nghĩa của từ vựng là: \",tuDien[tuVung])\n",
    "        print(\"Đã tra cứu ý nghĩa.\")\n",
    "\n",
    "    elif luachon == 4:\n",
    "        tuVung = input(\"Nhập vào từ vựng cần xoá: \")\n",
    "        tuDien.pop(tuVung)\n",
    "        print(\"Đã xoá từ vựng.\")\n",
    "        \n",
    "    elif luachon == 5:\n",
    "        tuDien.clear()\n",
    "        print(\"Đã xoá toàn bộ từ điển.\")\n",
    "\n",
    "\n",
    "    elif luachon == 6:\n",
    "        print(\"Danh sách từ vựng: \")\n",
    "        for x in tuDien.keys():\n",
    "            print(x)\n",
    "\n",
    "    elif luachon == 7:\n",
    "        print(\"Danh sách từ vựng - ý nghĩa: \")\n",
    "        for x, y in tuDien.items():\n",
    "            print(x, \"-\", y)\n",
    "            \n",
    "    elif luachon == 8:\n",
    "        break\n",
    "\n",
    "    else:\n",
    "        print(\"Nhập lựa chọn không đúng!\")"
   ]
  }
 ],
 "metadata": {
  "kernelspec": {
   "display_name": "Python 3 (ipykernel)",
   "language": "python",
   "name": "python3"
  },
  "language_info": {
   "codemirror_mode": {
    "name": "ipython",
    "version": 3
   },
   "file_extension": ".py",
   "mimetype": "text/x-python",
   "name": "python",
   "nbconvert_exporter": "python",
   "pygments_lexer": "ipython3",
   "version": "3.11.4"
  }
 },
 "nbformat": 4,
 "nbformat_minor": 5
}
