{
 "cells": [
  {
   "cell_type": "code",
   "execution_count": 3,
   "id": "90775342-7050-4679-a76c-51bac2556323",
   "metadata": {},
   "outputs": [
    {
     "name": "stdout",
     "output_type": "stream",
     "text": [
      "23.333333333333332\n",
      "37.77777777777778\n",
      "0.0\n"
     ]
    }
   ],
   "source": [
    "def trans(f):  \n",
    "    return (f - 32) / 1.8\n",
    "print(trans(74))\n",
    "print(trans(100))\n",
    "print(trans(32))"
   ]
  }
 ],
 "metadata": {
  "kernelspec": {
   "display_name": "Python 3 (ipykernel)",
   "language": "python",
   "name": "python3"
  },
  "language_info": {
   "codemirror_mode": {
    "name": "ipython",
    "version": 3
   },
   "file_extension": ".py",
   "mimetype": "text/x-python",
   "name": "python",
   "nbconvert_exporter": "python",
   "pygments_lexer": "ipython3",
   "version": "3.11.4"
  }
 },
 "nbformat": 4,
 "nbformat_minor": 5
}
