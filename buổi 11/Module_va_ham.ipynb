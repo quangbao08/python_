{
 "cells": [
  {
   "cell_type": "markdown",
   "id": "05948314",
   "metadata": {},
   "source": [
    "# Function"
   ]
  },
  {
   "cell_type": "markdown",
   "id": "3b68247e",
   "metadata": {},
   "source": [
    "## Function(hàm) là gì?"
   ]
  },
  {
   "cell_type": "markdown",
   "id": "cf84a685",
   "metadata": {},
   "source": [
    "Hàm (function) là một khối lệnh đặc biệt, nó được đặt tên, giúp mã chương trình dễ đọc hơn, và có thể gọi để sử dụng ở các nơi khác nhau trong chương trình. Hàm chính là khối lệnh có thể tái sử dụng (reuseable)."
   ]
  },
  {
   "cell_type": "markdown",
   "id": "3636c8b1",
   "metadata": {},
   "source": [
    "### Hàm\n",
    "\n",
    "Cú pháp:\n",
    "\n",
    "`def <tên hàm>(<tham số)>:\n",
    "    //Nội dung hàm`\n",
    "\n",
    "Gọi hàm:\n",
    "`<tên hàm>(<giá trị đầu vào>)`"
   ]
  },
  {
   "cell_type": "markdown",
   "id": "18f95aa8",
   "metadata": {},
   "source": [
    "### Ví dụ: Hàm in"
   ]
  },
  {
   "cell_type": "code",
   "execution_count": 3,
   "id": "0753ca43",
   "metadata": {},
   "outputs": [
    {
     "name": "stdout",
     "output_type": "stream",
     "text": [
      "hhelloworld\n"
     ]
    }
   ],
   "source": [
    "print(\"hhelloworld\")"
   ]
  },
  {
   "cell_type": "markdown",
   "id": "29c55e2b",
   "metadata": {},
   "source": [
    "### Ví dụ: Hàm tính giá trị tuyệt đối"
   ]
  },
  {
   "cell_type": "code",
   "execution_count": 4,
   "id": "e492700a",
   "metadata": {},
   "outputs": [
    {
     "data": {
      "text/plain": [
       "5"
      ]
     },
     "execution_count": 4,
     "metadata": {},
     "output_type": "execute_result"
    }
   ],
   "source": [
    "abs(-5)"
   ]
  },
  {
   "cell_type": "markdown",
   "id": "07fa617d",
   "metadata": {},
   "source": [
    "### Ví dụ: Hàm vẽ hình tròn"
   ]
  },
  {
   "cell_type": "code",
   "execution_count": null,
   "id": "2a2dec85",
   "metadata": {},
   "outputs": [],
   "source": []
  },
  {
   "cell_type": "markdown",
   "id": "c4575e29",
   "metadata": {},
   "source": [
    "## Xây dựng và sử dụng hàm trong python"
   ]
  },
  {
   "cell_type": "markdown",
   "id": "00ac6720",
   "metadata": {},
   "source": [
    "### Hàm say_hello"
   ]
  },
  {
   "cell_type": "code",
   "execution_count": null,
   "id": "47575691",
   "metadata": {},
   "outputs": [],
   "source": []
  },
  {
   "cell_type": "markdown",
   "id": "f9b6f894",
   "metadata": {},
   "source": [
    "### Hàm vẽ cây thông"
   ]
  },
  {
   "cell_type": "code",
   "execution_count": null,
   "id": "0994ceed",
   "metadata": {},
   "outputs": [],
   "source": []
  },
  {
   "attachments": {
    "image.png": {
     "image/png": "[encoded data removed]"
    }
   },
   "cell_type": "markdown",
   "id": "08fa2b6b",
   "metadata": {},
   "source": [
    "### Thực hành: Viết hàm vẽ ra hình ảnh như dưới đây:\n",
    "![image.png](attachment:image.png)"
   ]
  },
  {
   "cell_type": "code",
   "execution_count": 12,
   "id": "b3161e2c",
   "metadata": {},
   "outputs": [],
   "source": [
    "import turtle\n",
    "def draw():\n",
    "    pen = turtle.Turtle()\n",
    "    for i in range (6):\n",
    "        pen.circle(10 + 10 * i)\n",
    "        pen.penup()\n",
    "        pen.goto(0, -10 * i)\n",
    "        pen.pendown()\n",
    "turtle.done()"
   ]
  },
  {
   "cell_type": "markdown",
   "id": "77fa1ef1",
   "metadata": {},
   "source": [
    "## doc_string cho hàm"
   ]
  },
  {
   "cell_type": "code",
   "execution_count": null,
   "id": "8dcf448b",
   "metadata": {},
   "outputs": [],
   "source": [
    "# Hàm tính chu vi hình chữ nhật"
   ]
  },
  {
   "cell_type": "code",
   "execution_count": 5,
   "id": "a7dc57e9",
   "metadata": {},
   "outputs": [],
   "source": [
    "# Hàm xếp loại học sinh"
   ]
  },
  {
   "cell_type": "markdown",
   "id": "0c5f3f35",
   "metadata": {},
   "source": [
    "## Phạm vi biến"
   ]
  },
  {
   "cell_type": "code",
   "execution_count": 6,
   "id": "b332222c",
   "metadata": {},
   "outputs": [],
   "source": [
    "# Hàm tính tổng các số từ 1 đến 10"
   ]
  },
  {
   "cell_type": "markdown",
   "id": "7407e8fe",
   "metadata": {},
   "source": [
    "## Đối số của hàm"
   ]
  },
  {
   "cell_type": "code",
   "execution_count": 13,
   "id": "f5787950",
   "metadata": {},
   "outputs": [
    {
     "name": "stdout",
     "output_type": "stream",
     "text": [
      "Thể tích hình lập phương là 64\n"
     ]
    }
   ],
   "source": [
    "# Hàm tính thể tích hình lập phương\n",
    "def calc_cube_volumne(side):\n",
    "    volumne = side ** 3\n",
    "    print(f\"Thể tích hình lập phương là {volumne}\")\n",
    "\n",
    "calc_cube_volumne(4)\n",
    "    "
   ]
  },
  {
   "cell_type": "code",
   "execution_count": 14,
   "id": "8d1bc23b",
   "metadata": {},
   "outputs": [
    {
     "name": "stdout",
     "output_type": "stream",
     "text": [
      "grading : excellent\n"
     ]
    }
   ],
   "source": [
    "# Hàm xếp loại học sinh\n",
    "def grade_student(literature, math, english):\n",
    "    avg_mark = (literature + math + english) / 3\n",
    "    if avg_mark >= 8:\n",
    "        print(\"grading : excellent\")\n",
    "    else:\n",
    "        print(\"grading:good\")\n",
    "grade_student(6.5, 9.5, 9)\n"
   ]
  },
  {
   "cell_type": "markdown",
   "id": "1eee19a7",
   "metadata": {},
   "source": [
    "### Thực hành: Viết hàm nhận vào một số nguyên và kiểm tra xem số đó có phải là số nguyên tố hay không.\n"
   ]
  },
  {
   "cell_type": "code",
   "execution_count": null,
   "id": "d3c5d3a9",
   "metadata": {},
   "outputs": [],
   "source": []
  },
  {
   "cell_type": "markdown",
   "id": "dea3b237",
   "metadata": {},
   "source": [
    "## Đối số có giá trị mặc định"
   ]
  },
  {
   "cell_type": "code",
   "execution_count": null,
   "id": "8e871a22",
   "metadata": {},
   "outputs": [],
   "source": []
  },
  {
   "cell_type": "code",
   "execution_count": null,
   "id": "bb44715a",
   "metadata": {},
   "outputs": [],
   "source": []
  },
  {
   "cell_type": "markdown",
   "id": "4cb69485",
   "metadata": {},
   "source": [
    "## Giá trị trả về của hàm"
   ]
  },
  {
   "cell_type": "markdown",
   "id": "e4fac396",
   "metadata": {},
   "source": [
    "\n",
    "# return\n",
    "\n",
    "Cú pháp:\n",
    "\n",
    "`return <giá trị trả về>`\n",
    "\n",
    "##### Lưu ý: Sau khi thực hiện lệnh return, chương trình sẽ thoát khỏi hàm ngay lập tức (những lệnh sau đó không được thực hiện)\n",
    "\n",
    "Ví dụ:\n",
    "\n",
    "Hãy viết 1 hàm trả về giá trị trung bình của 2 số bất kỳ"
   ]
  },
  {
   "cell_type": "code",
   "execution_count": null,
   "id": "028b09bc",
   "metadata": {},
   "outputs": [],
   "source": []
  },
  {
   "cell_type": "code",
   "execution_count": null,
   "id": "24592238",
   "metadata": {},
   "outputs": [],
   "source": [
    "# Hàm tính chiều dài của chuỗi"
   ]
  },
  {
   "cell_type": "code",
   "execution_count": null,
   "id": "56d947d8",
   "metadata": {},
   "outputs": [],
   "source": [
    "# Hàm tính lũy thừa"
   ]
  },
  {
   "cell_type": "code",
   "execution_count": null,
   "id": "0178d43e",
   "metadata": {},
   "outputs": [],
   "source": [
    "# Hàm kiểm tra năm nhuận"
   ]
  }
 ],
 "metadata": {
  "kernelspec": {
   "display_name": "Python 3 (ipykernel)",
   "language": "python",
   "name": "python3"
  },
  "language_info": {
   "codemirror_mode": {
    "name": "ipython",
    "version": 3
   },
   "file_extension": ".py",
   "mimetype": "text/x-python",
   "name": "python",
   "nbconvert_exporter": "python",
   "pygments_lexer": "ipython3",
   "version": "3.11.4"
  }
 },
 "nbformat": 4,
 "nbformat_minor": 5
}
