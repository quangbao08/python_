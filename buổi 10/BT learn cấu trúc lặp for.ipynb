{
 "cells": [
  {
   "cell_type": "code",
   "execution_count": 6,
   "id": "e7a09217-c2e8-4d44-826b-d4a1f0636bef",
   "metadata": {},
   "outputs": [],
   "source": [
    "### Vẽ hình vuông sử dụng vòng lặp for"
   ]
  },
  {
   "cell_type": "code",
   "execution_count": 4,
   "id": "8d26ff6b-bfb0-4def-abf7-2d66db2d5693",
   "metadata": {},
   "outputs": [],
   "source": [
    "import turtle\n",
    "\n",
    "wn = turtle.Screen()\n",
    "wn.bgcolor(\"black\")\n",
    "wn.title(\"Square\")\n",
    "\n",
    "myPen = turtle.Turtle()\n",
    "myPen.speed(0)\n",
    "myPen.color(\"#FF0000\")\n",
    "\n",
    "for i in range(4):\n",
    "  myPen.forward(100)\n",
    "  myPen.left(90)\n",
    "\n",
    "turtle.done()"
   ]
  },
  {
   "cell_type": "code",
   "execution_count": 1,
   "id": "2fc68082-2c3f-4d10-b096-58b9b44b2bde",
   "metadata": {},
   "outputs": [],
   "source": [
    "### Sử dụng vòng lặp lồng nhau để vẽ hình"
   ]
  },
  {
   "cell_type": "code",
   "execution_count": 2,
   "id": "379577fc-c1cf-4968-b4ad-6cb1a736f463",
   "metadata": {},
   "outputs": [],
   "source": [
    "import turtle\n",
    "\n",
    "wn = turtle.Screen()\n",
    "wn.bgcolor(\"black\")\n",
    "wn.title(\"Star\")\n",
    "\n",
    "myPen = turtle.Turtle()\n",
    "myPen.speed(0)\n",
    "myPen.color(\"#FF0000\")\n",
    "\n",
    "for j in range (1,100):\n",
    "    for i in range (1,6):\n",
    "        myPen.left(144)\n",
    "        myPen.forward(200)\n",
    "    myPen.left(5)\n",
    "\n",
    "turtle.done()"
   ]
  },
  {
   "cell_type": "code",
   "execution_count": null,
   "id": "7e37ff31-4d75-431d-957d-0b1e96d3133f",
   "metadata": {},
   "outputs": [],
   "source": [
    "#Vẽ hình chữ nhật bằng ký tự"
   ]
  },
  {
   "cell_type": "code",
   "execution_count": 4,
   "id": "09a6045b-afc6-4116-9c6f-6d8c917a3507",
   "metadata": {},
   "outputs": [
    {
     "name": "stdin",
     "output_type": "stream",
     "text": [
      "Your char?:  *\n",
      "Width?:  30\n",
      "Height?:  10\n"
     ]
    },
    {
     "name": "stdout",
     "output_type": "stream",
     "text": [
      "******************************\n",
      "*                            *\n",
      "*                            *\n",
      "*                            *\n",
      "*                            *\n",
      "*                            *\n",
      "*                            *\n",
      "*                            *\n",
      "*                            *\n",
      "******************************\n"
     ]
    }
   ],
   "source": [
    "char = input('Your char?: ')\n",
    "width = int(input('Width?: '))\n",
    "height = int(input('Height?: '))\n",
    "\n",
    "for i in range(1,height + 1):\n",
    "    print_str = ''\n",
    "    for j in range(1,width + 1):\n",
    "        if i == 1 or i == height:\n",
    "            print_str += char\n",
    "        else:\n",
    "            if j == 1 or j == width:\n",
    "                print_str += char\n",
    "            else:\n",
    "                print_str += ' '\n",
    "    print(print_str)"
   ]
  }
 ],
 "metadata": {
  "kernelspec": {
   "display_name": "Python 3 (ipykernel)",
   "language": "python",
   "name": "python3"
  },
  "language_info": {
   "codemirror_mode": {
    "name": "ipython",
    "version": 3
   },
   "file_extension": ".py",
   "mimetype": "text/x-python",
   "name": "python",
   "nbconvert_exporter": "python",
   "pygments_lexer": "ipython3",
   "version": "3.11.4"
  }
 },
 "nbformat": 4,
 "nbformat_minor": 5
}
